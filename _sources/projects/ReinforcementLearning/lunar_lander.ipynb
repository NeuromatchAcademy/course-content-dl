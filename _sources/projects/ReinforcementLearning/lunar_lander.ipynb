{
 "cells": [
  {
   "cell_type": "markdown",
   "metadata": {
    "execution": {},
    "id": "hoUv4L-J1dy4"
   },
   "source": [
    "[![Open In Colab](https://colab.research.google.com/assets/colab-badge.svg)](https://colab.research.google.com/github/NeuromatchAcademy/course-content-dl/blob/main/projects/ReinforcementLearning/lunar_lander.ipynb)\n",
    "[![Kaggle](https://kaggle.com/static/images/open-in-kaggle.svg)](https://kaggle.com/kernels/welcome?src=https://raw.githubusercontent.com/NeuromatchAcademy/course-content-dl/main/projects/ReinforcementLearning/lunar_lander.ipynb)\n",
    "\n",
    "# Performance Analysis of DQN Algorithm on the Lunar Lander task\n",
    "\n",
    "**By Neuromatch Academy**\n",
    "\n",
    "__Content creators:__ Raghuram Bharadwaj Diddigi, Geraud Nangue Tasse, Yamil Vidal, Sanjukta Krishnagopal, Sara Rajaee\n",
    "\n",
    "__Content editors:__ Shaonan Wang, Spiros Chavlis, Mobin Nesari"
   ]
  },
  {
   "cell_type": "markdown",
   "metadata": {
    "execution": {},
    "id": "p33LDXMt1dy5"
   },
   "source": [
    "---\n",
    "# Objective\n",
    "\n",
    "In this project, the objective is to analyze the performance of the Deep Q-Learning algorithm on an exciting task- Lunar Lander. Before we describe the task, let us focus on two keywords here - analysis and performance. What exactly do we mean by these keywords in the context of Reinforcement Learning (RL)?"
   ]
  },
  {
   "cell_type": "markdown",
   "metadata": {
    "execution": {},
    "id": "UZttlBu21dy5"
   },
   "source": [
    "---\n",
    "# Setup"
   ]
  },
  {
   "cell_type": "markdown",
   "metadata": {},
   "source": [
    "##  Install dependencies\n"
   ]
  },
  {
   "cell_type": "code",
   "execution_count": 1,
   "metadata": {
    "colab": {
     "base_uri": "https://localhost:8080/"
    },
    "execution": {},
    "id": "fEaAO6KC1dy6",
    "outputId": "2015368e-02a8-4034-935f-333f87e18812",
    "tags": [
     "hide-input"
    ]
   },
   "outputs": [
    {
     "name": "stdout",
     "output_type": "stream",
     "text": [
      "\u001b[2K   \u001b[90m━━━━━━━━━━━━━━━━━━━━━━━━━━━━━━━━━━━━━━━━\u001b[0m \u001b[32m363.4/363.4 MB\u001b[0m \u001b[31m4.8 MB/s\u001b[0m eta \u001b[36m0:00:00\u001b[0m\n",
      "\u001b[2K   \u001b[90m━━━━━━━━━━━━━━━━━━━━━━━━━━━━━━━━━━━━━━━━\u001b[0m \u001b[32m13.8/13.8 MB\u001b[0m \u001b[31m120.4 MB/s\u001b[0m eta \u001b[36m0:00:00\u001b[0m\n",
      "\u001b[2K   \u001b[90m━━━━━━━━━━━━━━━━━━━━━━━━━━━━━━━━━━━━━━━━\u001b[0m \u001b[32m24.6/24.6 MB\u001b[0m \u001b[31m30.2 MB/s\u001b[0m eta \u001b[36m0:00:00\u001b[0m\n",
      "\u001b[2K   \u001b[90m━━━━━━━━━━━━━━━━━━━━━━━━━━━━━━━━━━━━━━━━\u001b[0m \u001b[32m883.7/883.7 kB\u001b[0m \u001b[31m45.8 MB/s\u001b[0m eta \u001b[36m0:00:00\u001b[0m\n",
      "\u001b[2K   \u001b[90m━━━━━━━━━━━━━━━━━━━━━━━━━━━━━━━━━━━━━━━\u001b[0m \u001b[32m664.8/664.8 MB\u001b[0m \u001b[31m773.2 kB/s\u001b[0m eta \u001b[36m0:00:00\u001b[0m\n",
      "\u001b[2K   \u001b[90m━━━━━━━━━━━━━━━━━━━━━━━━━━━━━━━━━━━━━━━━\u001b[0m \u001b[32m211.5/211.5 MB\u001b[0m \u001b[31m5.9 MB/s\u001b[0m eta \u001b[36m0:00:00\u001b[0m\n",
      "\u001b[2K   \u001b[90m━━━━━━━━━━━━━━━━━━━━━━━━━━━━━━━━━━━━━━━━\u001b[0m \u001b[32m56.3/56.3 MB\u001b[0m \u001b[31m13.3 MB/s\u001b[0m eta \u001b[36m0:00:00\u001b[0m\n",
      "\u001b[2K   \u001b[90m━━━━━━━━━━━━━━━━━━━━━━━━━━━━━━━━━━━━━━━━\u001b[0m \u001b[32m127.9/127.9 MB\u001b[0m \u001b[31m7.6 MB/s\u001b[0m eta \u001b[36m0:00:00\u001b[0m\n",
      "\u001b[2K   \u001b[90m━━━━━━━━━━━━━━━━━━━━━━━━━━━━━━━━━━━━━━━━\u001b[0m \u001b[32m207.5/207.5 MB\u001b[0m \u001b[31m6.4 MB/s\u001b[0m eta \u001b[36m0:00:00\u001b[0m\n",
      "\u001b[2K   \u001b[90m━━━━━━━━━━━━━━━━━━━━━━━━━━━━━━━━━━━━━━━━\u001b[0m \u001b[32m21.1/21.1 MB\u001b[0m \u001b[31m101.0 MB/s\u001b[0m eta \u001b[36m0:00:00\u001b[0m\n",
      "\u001b[2K   \u001b[90m━━━━━━━━━━━━━━━━━━━━━━━━━━━━━━━━━━━━━━━━\u001b[0m \u001b[32m184.5/184.5 kB\u001b[0m \u001b[31m16.3 MB/s\u001b[0m eta \u001b[36m0:00:00\u001b[0m\n",
      "\u001b[2K   \u001b[90m━━━━━━━━━━━━━━━━━━━━━━━━━━━━━━━━━━━━━━━━\u001b[0m \u001b[32m1.9/1.9 MB\u001b[0m \u001b[31m39.4 MB/s\u001b[0m eta \u001b[36m0:00:00\u001b[0m\n",
      "\u001b[2K   \u001b[90m━━━━━━━━━━━━━━━━━━━━━━━━━━━━━━━━━━━━━━━━\u001b[0m \u001b[32m984.0/984.0 kB\u001b[0m \u001b[31m22.9 MB/s\u001b[0m eta \u001b[36m0:00:00\u001b[0m\n",
      "\u001b[2K   \u001b[90m━━━━━━━━━━━━━━━━━━━━━━━━━━━━━━━━━━━━━━━━\u001b[0m \u001b[32m136.7/136.7 kB\u001b[0m \u001b[31m5.0 MB/s\u001b[0m eta \u001b[36m0:00:00\u001b[0m\n",
      "\u001b[2K     \u001b[90m━━━━━━━━━━━━━━━━━━━━━━━━━━━━━━━━━━━━━━\u001b[0m \u001b[32m374.5/374.5 kB\u001b[0m \u001b[31m13.4 MB/s\u001b[0m eta \u001b[36m0:00:00\u001b[0m\n",
      "\u001b[?25h  Preparing metadata (setup.py) ... \u001b[?25l\u001b[?25hdone\n",
      "  Building wheel for box2d-py (setup.py) ... \u001b[?25l\u001b[?25hdone\n"
     ]
    }
   ],
   "source": [
    "# @title Install dependencies\n",
    "!pip install rarfile --quiet\n",
    "!pip install ale-py --quiet\n",
    "!pip install 'stable-baselines3[extra]' --quiet\n",
    "!pip install -q gymnasium --quiet\n",
    "!pip install swig --quiet\n",
    "!pip install pyvirtualdisplay --quiet\n",
    "!pip install pyglet --quiet\n",
    "!pip install pygame --quiet\n",
    "!pip install minigrid --quiet\n",
    "!pip install -q swig --quiet\n",
    "!pip install minigrid --quiet\n",
    "!pip3 install box2d-py --quiet"
   ]
  },
  {
   "cell_type": "code",
   "execution_count": 11,
   "metadata": {
    "execution": {},
    "id": "ZZ-bKnTC1dy6"
   },
   "outputs": [],
   "source": [
    "# Imports\n",
    "import io\n",
    "import os\n",
    "import glob\n",
    "import torch\n",
    "import base64\n",
    "import minigrid\n",
    "\n",
    "import numpy as np\n",
    "import matplotlib.pyplot as plt\n",
    "\n",
    "import sys\n",
    "import gymnasium\n",
    "\n",
    "import stable_baselines3\n",
    "from stable_baselines3 import DQN\n",
    "from stable_baselines3.common.results_plotter import ts2xy, load_results\n",
    "from stable_baselines3.common.callbacks import EvalCallback\n",
    "from stable_baselines3.common.env_util import make_atari_env\n",
    "\n",
    "import gymnasium as gym\n",
    "from gymnasium import spaces\n",
    "from gymnasium.envs.box2d.lunar_lander import *\n",
    "from gymnasium.wrappers import RecordVideo\n",
    "from ale_py import ALEInterface\n",
    "\n",
    "import warnings\n",
    "warnings.filterwarnings('ignore')\n",
    "\n",
    "ale = ALEInterface()"
   ]
  },
  {
   "cell_type": "markdown",
   "metadata": {},
   "source": [
    "##  Play Video function\n"
   ]
  },
  {
   "cell_type": "code",
   "execution_count": 12,
   "metadata": {
    "execution": {},
    "id": "Q-NNXKQT1dy6",
    "tags": [
     "hide-input"
    ]
   },
   "outputs": [],
   "source": [
    "# @title Play Video function\n",
    "from IPython.display import HTML\n",
    "from base64 import b64encode\n",
    "from pyvirtualdisplay import Display\n",
    "\n",
    "# create the directory to store the video(s)\n",
    "os.makedirs(\"./video\", exist_ok=True)\n",
    "\n",
    "display = Display(visible=False, size=(1400, 900))\n",
    "_ = display.start()\n",
    "\n",
    "\"\"\"\n",
    "Utility functions to enable video recording of gym environment\n",
    "and displaying it.\n",
    "To enable video, just do \"env = wrap_env(env)\"\"\n",
    "\"\"\"\n",
    "def render_mp4(videopath: str) -> str:\n",
    "  \"\"\"\n",
    "  Gets a string containing a b4-encoded version of the MP4 video\n",
    "  at the specified path.\n",
    "  \"\"\"\n",
    "  mp4 = open(videopath, 'rb').read()\n",
    "  base64_encoded_mp4 = b64encode(mp4).decode()\n",
    "  return f'<video width=400 controls><source src=\"data:video/mp4;' \\\n",
    "         f'base64,{base64_encoded_mp4}\" type=\"video/mp4\"></video>'"
   ]
  },
  {
   "cell_type": "markdown",
   "metadata": {
    "execution": {},
    "id": "dc3ZYt5l1dy7"
   },
   "source": [
    "---\n",
    "# Introduction\n",
    "\n",
    "In a standard RL setting, an agent learns optimal behavior from an environment through a feedback mechanism to maximize a given objective. Many algorithms have been proposed in the RL literature that an agent can apply to learn the optimal behavior. One such popular algorithm is the Deep Q-Network (DQN). This algorithm makes use of deep neural networks to compute optimal actions. In this project, your goal is to understand the effect of the number of neural network layers on the algorithm's performance. The performance of the algorithm can be evaluated through two metrics - Speed and Stability.\n",
    "\n",
    "**Speed:** How fast the algorithm reaches the maximum possible reward.\n",
    "\n",
    "**Stability** In some applications (especially when online learning is involved), along with speed, stability of the algorithm, i.e., minimal fluctuations in performance, is equally important.\n",
    "\n",
    "In this project, you should investigate the following question:\n",
    "\n",
    "**What is the impact of number of neural network layers on speed and stability of the algorithm?**\n",
    "\n",
    "You do not have to write the DQN code from scratch. We have provided a basic implementation of the DQN algorithm. You only have to tune the hyperparameters (neural network size, learning rate, etc), observe the performance, and analyze. More details on this are provided below.\n",
    "\n",
    "Now, let us discuss the RL task we have chosen, i.e., Lunar Lander. This task consists of the lander and a landing pad marked by two flags. The episode starts with the lander moving downwards due to gravity. The objective is to land safely using different engines available on the lander with zero speed on the landing pad as quickly and fuel efficient as possible. Reward for moving from the top of the screen and landing on landing pad with zero speed is between 100 to 140 points. Each leg ground contact yields a reward of 10 points. Firing main engine leads to a reward of -0.3 points in each frame. Firing the side engine leads to a reward of -0.03 points in each frame. An additional reward of -100 or +100 points is received if the lander crashes or comes to rest respectively which also leads to end of the episode.\n",
    "\n",
    "The input state of the Lunar Lander consists of following components:\n",
    "\n",
    "  1. Horizontal Position\n",
    "  2. Vertical Position\n",
    "  3. Horizontal Velocity\n",
    "  4. Vertical Velocity\n",
    "  5. Angle\n",
    "  6. Angular Velocity\n",
    "  7. Left Leg Contact\n",
    "  8. Right Leg Contact\n",
    "\n",
    "The actions of the agents are:\n",
    "  1. Do Nothing\n",
    "  2. Fire Main Engine\n",
    "  3. Fire Left Engine\n",
    "  4. Fire Right Engine\n",
    "\n",
    "\n",
    "<img src=\"https://raw.githubusercontent.com/NeuromatchAcademy/course-content-dl/main/projects/static/lunar_lander.png\">"
   ]
  },
  {
   "cell_type": "markdown",
   "metadata": {
    "execution": {},
    "id": "GYFliEPy1dy7"
   },
   "source": [
    "---\n",
    "# Basic DQN Implementation\n",
    "\n",
    "We will now implement the DQN algorithm using the existing code base. We encourage you to understand this example and re-use it in an application/project of your choice!"
   ]
  },
  {
   "cell_type": "markdown",
   "metadata": {
    "execution": {},
    "id": "Yby9rDkt1dy7"
   },
   "source": [
    "Now, let us set some hyperparameters for our algorithm. This is the only part you would play around with, to solve the first part of the project."
   ]
  },
  {
   "cell_type": "code",
   "execution_count": 13,
   "metadata": {
    "execution": {},
    "id": "BuDNDWUb1dy7"
   },
   "outputs": [],
   "source": [
    "nn_layers = [64, 64]  # This is the configuration of your neural network. Currently, we have two layers, each consisting of 64 neurons.\n",
    "                      # If you want three layers with 64 neurons each, set the value to [64,64,64] and so on.\n",
    "\n",
    "learning_rate = 0.001  # This is the step-size with which the gradient descent is carried out.\n",
    "                       # Tip: Use smaller step-sizes for larger networks."
   ]
  },
  {
   "cell_type": "markdown",
   "metadata": {
    "execution": {},
    "id": "3kk3OJMo1dy7"
   },
   "source": [
    "Now, let us setup our model and the DQN algorithm."
   ]
  },
  {
   "cell_type": "code",
   "execution_count": 14,
   "metadata": {
    "execution": {},
    "id": "VN8Al7ay1dy7"
   },
   "outputs": [],
   "source": [
    "log_dir = \"/tmp/gym/\"\n",
    "os.makedirs(log_dir, exist_ok=True)\n",
    "\n",
    "# Create environment\n",
    "env_name = 'LunarLander-v3'\n",
    "env = gym.make(env_name)\n",
    "# You can also load other environments like cartpole, MountainCar, Acrobot.\n",
    "# Refer to https://gym.openai.com/docs/ for descriptions.\n",
    "\n",
    "# For example, if you would like to load Cartpole,\n",
    "# just replace the above statement with \"env = gym.make('CartPole-v1')\".\n",
    "\n",
    "env = stable_baselines3.common.monitor.Monitor(env, log_dir )\n",
    "\n",
    "callback = EvalCallback(env, log_path=log_dir, deterministic=True)  # For evaluating the performance of the agent periodically and logging the results.\n",
    "policy_kwargs = dict(activation_fn=torch.nn.ReLU,\n",
    "                     net_arch=nn_layers)\n",
    "model = DQN(\"MlpPolicy\", env,policy_kwargs = policy_kwargs,\n",
    "            learning_rate=learning_rate,\n",
    "            batch_size=1,  # for simplicity, we are not doing batch update.\n",
    "            buffer_size=1,  # size of experience of replay buffer. Set to 1 as batch update is not done\n",
    "            learning_starts=1,  # learning starts immediately!\n",
    "            gamma=0.99,  # discount facto. range is between 0 and 1.\n",
    "            tau = 1,  # the soft update coefficient for updating the target network\n",
    "            target_update_interval=1,  # update the target network immediately.\n",
    "            train_freq=(1,\"step\"),  # train the network at every step.\n",
    "            max_grad_norm = 10,  # the maximum value for the gradient clipping\n",
    "            exploration_initial_eps = 1,  # initial value of random action probability\n",
    "            exploration_fraction = 0.5,  # fraction of entire training period over which the exploration rate is reduced\n",
    "            gradient_steps = 1,  # number of gradient steps\n",
    "            seed = 1,  # seed for the pseudo random generators\n",
    "            verbose=0)  # Set verbose to 1 to observe training logs. We encourage you to set the verbose to 1.\n",
    "\n",
    "# You can also experiment with other RL algorithms like A2C, PPO, DDPG etc.\n",
    "# Refer to  https://stable-baselines3.readthedocs.io/en/master/guide/examples.html\n",
    "# for documentation. For example, if you would like to run DDPG, just replace \"DQN\" above with \"DDPG\"."
   ]
  },
  {
   "cell_type": "markdown",
   "metadata": {
    "execution": {},
    "id": "R274WFx31dy7"
   },
   "source": [
    "Before we train the model, let us look at an instance of Lunar Lander **before training**.  \n",
    "\n",
    "**Note:** The following code for rendering the video is taken from [here](https://colab.research.google.com/github/jeffheaton/t81_558_deep_learning/blob/master/t81_558_class_12_01_ai_gym.ipynb#scrollTo=T9RpF49oOsZj)."
   ]
  },
  {
   "cell_type": "code",
   "execution_count": 15,
   "metadata": {
    "colab": {
     "base_uri": "https://localhost:8080/"
    },
    "execution": {},
    "id": "lBJ6_98x1dy8",
    "outputId": "c84bcc78-88f1-4cac-b435-9938c4d69504"
   },
   "outputs": [
    {
     "name": "stdout",
     "output_type": "stream",
     "text": [
      "State shape:  (8,)\n",
      "Number of actions:  4\n"
     ]
    }
   ],
   "source": [
    "env_name = 'LunarLander-v3'\n",
    "env = gym.make(env_name)\n",
    "print('State shape: ', env.observation_space.shape)\n",
    "print('Number of actions: ', env.action_space.n)"
   ]
  },
  {
   "cell_type": "code",
   "execution_count": 16,
   "metadata": {
    "colab": {
     "base_uri": "https://localhost:8080/",
     "height": 379
    },
    "execution": {},
    "id": "tjt9QPYo1dy8",
    "outputId": "ebe51e01-376b-494c-8d19-095237291f23"
   },
   "outputs": [
    {
     "name": "stderr",
     "output_type": "stream",
     "text": [
      "/usr/local/lib/python3.11/dist-packages/gymnasium/wrappers/rendering.py:283: UserWarning: \u001b[33mWARN: Overwriting existing videos at /content/video folder (try specifying a different `video_folder` for the `RecordVideo` wrapper if this is not desired)\u001b[0m\n",
      "  logger.warn(\n"
     ]
    },
    {
     "name": "stdout",
     "output_type": "stream",
     "text": [
      "\n",
      "Total reward: -557.177625601068\n"
     ]
    },
    {
     "data": {
      "text/html": [
       "<video width=400 controls><source src=\"data:video/mp4;base64,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\" type=\"video/mp4\"></video>"
      ],
      "text/plain": [
       "<IPython.core.display.HTML object>"
      ]
     },
     "execution_count": 16,
     "metadata": {},
     "output_type": "execute_result"
    }
   ],
   "source": [
    "env = gym.make(env_name, render_mode=\"rgb_array\")\n",
    "env = gym.wrappers.RecordVideo(\n",
    "    env,\n",
    "    video_folder=\"video\",\n",
    "    name_prefix=f\"{env_name}_pretraining\",\n",
    "    episode_trigger=lambda episode_id: True\n",
    ")\n",
    "\n",
    "observation, _ = env.reset()\n",
    "total_reward = 0\n",
    "done = False\n",
    "\n",
    "while not done:\n",
    "    action, states = model.predict(observation, deterministic=True)\n",
    "    observation, reward, terminated, truncated, info = env.step(action)\n",
    "    done = terminated or truncated\n",
    "    total_reward += reward\n",
    "\n",
    "env.close()\n",
    "print(f\"\\nTotal reward: {total_reward}\")\n",
    "\n",
    "# show video\n",
    "html = render_mp4(f\"video/{env_name}_pretraining-episode-0.mp4\")\n",
    "HTML(html)"
   ]
  },
  {
   "cell_type": "markdown",
   "metadata": {
    "execution": {},
    "id": "4DJbr9d21dy8"
   },
   "source": [
    "From the video above, we see that the lander has crashed!\n",
    "It is now the time for training!\n"
   ]
  },
  {
   "cell_type": "code",
   "execution_count": 17,
   "metadata": {
    "colab": {
     "base_uri": "https://localhost:8080/"
    },
    "execution": {},
    "id": "hmdfnbpL1dy8",
    "outputId": "9a985a99-5753-4add-933a-b9a911d6083e"
   },
   "outputs": [
    {
     "name": "stdout",
     "output_type": "stream",
     "text": [
      "Eval num_timesteps=10000, episode_reward=-316.03 +/- 96.76\n",
      "Episode length: 87.40 +/- 8.11\n",
      "New best mean reward!\n",
      "Eval num_timesteps=20000, episode_reward=-72.12 +/- 28.46\n",
      "Episode length: 88.20 +/- 3.87\n",
      "New best mean reward!\n",
      "Eval num_timesteps=30000, episode_reward=-464.56 +/- 68.66\n",
      "Episode length: 156.40 +/- 48.96\n",
      "Eval num_timesteps=40000, episode_reward=-252.16 +/- 13.86\n",
      "Episode length: 595.80 +/- 114.32\n",
      "Eval num_timesteps=50000, episode_reward=-27.78 +/- 83.38\n",
      "Episode length: 894.00 +/- 130.32\n",
      "New best mean reward!\n",
      "Eval num_timesteps=60000, episode_reward=-67.35 +/- 103.69\n",
      "Episode length: 441.60 +/- 75.51\n",
      "Eval num_timesteps=70000, episode_reward=-154.81 +/- 74.24\n",
      "Episode length: 485.20 +/- 310.82\n",
      "Eval num_timesteps=80000, episode_reward=-100.42 +/- 40.64\n",
      "Episode length: 844.20 +/- 200.15\n",
      "Eval num_timesteps=90000, episode_reward=-40.68 +/- 17.53\n",
      "Episode length: 1000.00 +/- 0.00\n",
      "Eval num_timesteps=100000, episode_reward=137.78 +/- 96.34\n",
      "Episode length: 275.40 +/- 185.90\n",
      "New best mean reward!\n"
     ]
    },
    {
     "data": {
      "text/plain": [
       "<stable_baselines3.dqn.dqn.DQN at 0x7b9cf28afdd0>"
      ]
     },
     "execution_count": 17,
     "metadata": {},
     "output_type": "execute_result"
    }
   ],
   "source": [
    "model.learn(total_timesteps=100000, log_interval=10, callback=callback)\n",
    "# The performance of the training will be printed every 10000 episodes. Change it to 1, if you wish to\n",
    "# view the performance at every training episode."
   ]
  },
  {
   "cell_type": "markdown",
   "metadata": {
    "execution": {},
    "id": "LliuB6BC1dy8"
   },
   "source": [
    "The training takes time. We encourage you to analyze the output logs (set verbose to 1 to print the output logs). The main component of the logs that you should track is \"ep_rew_mean\" (mean of episode rewards). As the training proceeds, the value of \"ep_rew_mean\" should increase. The improvement need not be monotonic, but the trend should be upwards!\n",
    "\n",
    "Along with training, we are also periodically evaluating the performance of the current model during the training. This was reported in logs as follows:\n",
    "\n",
    "```\n",
    "Eval num_timesteps=100000, episode_reward=63.41 +/- 130.02\n",
    "Episode length: 259.80 +/- 47.47\n",
    "```"
   ]
  },
  {
   "cell_type": "markdown",
   "metadata": {
    "execution": {},
    "id": "3NP3r3iG1dy8"
   },
   "source": [
    "Now, let us look at the visual performance of the lander.\n",
    "\n",
    "**Note:** The performance varies across different seeds and runs. This code is not optimized to be stable across all runs and seeds. We hope you will be able to find an optimal configuration!"
   ]
  },
  {
   "cell_type": "code",
   "execution_count": 18,
   "metadata": {
    "colab": {
     "base_uri": "https://localhost:8080/",
     "height": 323
    },
    "execution": {},
    "id": "kM3Wqbwf1dy9",
    "outputId": "91b80d12-335b-48ef-94f7-b19b2bead43f"
   },
   "outputs": [
    {
     "name": "stdout",
     "output_type": "stream",
     "text": [
      "\n",
      "Total reward: 221.68495325461203\n"
     ]
    },
    {
     "data": {
      "text/html": [
       "<video width=400 controls><source src=\"data:video/mp4;base64,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\" type=\"video/mp4\"></video>"
      ],
      "text/plain": [
       "<IPython.core.display.HTML object>"
      ]
     },
     "execution_count": 18,
     "metadata": {},
     "output_type": "execute_result"
    }
   ],
   "source": [
    "env = gym.make(env_name, render_mode=\"rgb_array\")\n",
    "env = gym.wrappers.RecordVideo(\n",
    "    env,\n",
    "    video_folder=\"video\",\n",
    "    name_prefix=f\"{env_name}_learned\",\n",
    "    episode_trigger=lambda episode_id: True\n",
    ")\n",
    "\n",
    "observation, _ = env.reset()\n",
    "total_reward = 0\n",
    "done = False\n",
    "\n",
    "while not done:\n",
    "    action, states = model.predict(observation, deterministic=True)\n",
    "    observation, reward, terminated, truncated, info = env.step(action)\n",
    "    done = terminated or truncated\n",
    "    total_reward += reward\n",
    "\n",
    "env.close()\n",
    "print(f\"\\nTotal reward: {total_reward}\")\n",
    "\n",
    "# show video\n",
    "html = render_mp4(f\"video/{env_name}_learned-episode-0.mp4\")\n",
    "HTML(html)"
   ]
  },
  {
   "cell_type": "markdown",
   "metadata": {
    "execution": {},
    "id": "8mwPYtaj1dy9"
   },
   "source": [
    "The lander has landed safely!!\n",
    "\n",
    "Let us analyze its performance (speed and stability). For this purpose, we plot the number of time steps on the x-axis and the episodic reward given by the trained model on the y-axis."
   ]
  },
  {
   "cell_type": "code",
   "execution_count": 19,
   "metadata": {
    "colab": {
     "base_uri": "https://localhost:8080/",
     "height": 455
    },
    "execution": {},
    "id": "-t5a8Cmm1dy9",
    "outputId": "b128c12e-b440-4e4f-8c9d-19d7ef21f45f"
   },
   "outputs": [
    {
     "data": {
      "image/png": "[encoded data removed]",
      "text/plain": [
       "<Figure size 640x480 with 1 Axes>"
      ]
     },
     "metadata": {},
     "output_type": "display_data"
    }
   ],
   "source": [
    "x, y = ts2xy(load_results(log_dir), 'timesteps')  # Organising the logged results in to a clean format for plotting.\n",
    "plt.plot(x, y)\n",
    "plt.ylim([-300, 300])\n",
    "plt.xlabel('Timesteps')\n",
    "plt.ylabel('Episode Rewards')\n",
    "plt.show()"
   ]
  },
  {
   "cell_type": "markdown",
   "metadata": {
    "execution": {},
    "id": "OjbFm9e81dy9"
   },
   "source": [
    "From the above plot, we observe that, although the maximum reward is achieved quickly. Achieving an episodic reward of > 200 is good. We see that the agent has achieved it in less than 50000 timesteps (speed is good!). However, there are a lot of fluctuations in the performance (stability is not good!).\n",
    "\n",
    "Your objective now is to modify the model parameters (nn_layers, learning_rate in the code cell #2 above), run all the cells following it and investigate the stability and speed of the chosen configuration.   \n"
   ]
  },
  {
   "cell_type": "markdown",
   "metadata": {
    "execution": {},
    "id": "fI1gXWXE1dy9"
   },
   "source": [
    "---\n",
    "# Additional Project Ideas"
   ]
  },
  {
   "cell_type": "markdown",
   "metadata": {
    "execution": {},
    "id": "KPSsk1yJ1dy9"
   },
   "source": [
    "## 1 Play with exploration-exploitation trade-off\n",
    "\n",
    "Exploration (selecting random actions) and exploitation (selecting greedy action) is a crucial component of the DQN algorithm. Explore random actions for a long time will slow down the training process. At the same time, if all actions are not explored enough, it might lead to a sub-optimal performance. In the DQN code above, we have used the following parameters:"
   ]
  },
  {
   "cell_type": "code",
   "execution_count": 20,
   "metadata": {
    "execution": {},
    "id": "lmXJfru01dy9"
   },
   "outputs": [],
   "source": [
    "exploration_initial_eps = 1  # initial value of random action probability. Range is between 0 and 1.\n",
    "exploration_fraction = 0.5  # fraction of entire training period over which the exploration rate is reduced. Range is between 0 and 1.\n",
    "exploration_final_eps = 0.05  # (set by defualt) final value of random action probability. Range is between 0 and 1."
   ]
  },
  {
   "cell_type": "markdown",
   "metadata": {
    "execution": {},
    "id": "uag15_CU1dy9"
   },
   "source": [
    "Your objective is to play around with these parameters and analyze their performance (speed and stability). You can modify these parameters and set them as arguments in DQN(...,exploration_initial_eps = 1, exploration_fraction = 0.5, exploration_final_eps = 0.05,...)."
   ]
  },
  {
   "cell_type": "markdown",
   "metadata": {
    "execution": {},
    "id": "b80-n0-i1dy9"
   },
   "source": [
    "## 2 Reward Shaping\n",
    "\n",
    "Your objective here is to construct a modified reward function that improves the performance of the Lunar Lander. To this end, you would have to create your own custom environment. An example of a custom environment is given below:"
   ]
  },
  {
   "cell_type": "code",
   "execution_count": 21,
   "metadata": {
    "execution": {},
    "id": "u2JrT_-h1dy9"
   },
   "outputs": [],
   "source": [
    "# Taken from https://stable-baselines3.readthedocs.io/en/master/guide/custom_env.html\n",
    "class CustomEnv(gym.Env):\n",
    "  \"\"\"Custom Environment that follows gym interface\"\"\"\n",
    "  metadata = {'render.modes': ['human']}\n",
    "\n",
    "  def __init__(self, arg1, arg2):\n",
    "    super(CustomEnv, self).__init__()\n",
    "    # Define action and observation space\n",
    "    # They must be gym.spaces objects\n",
    "    # Example when using discrete actions:\n",
    "    self.action_space = spaces.Discrete(N_DISCRETE_ACTIONS)\n",
    "    # Example for using image as input (channel-first; channel-last also works):\n",
    "    self.observation_space = spaces.Box(low=0, high=255,\n",
    "                                        shape=(N_CHANNELS, HEIGHT, WIDTH), dtype=np.uint8)\n",
    "\n",
    "  def step(self, action):\n",
    "    ...\n",
    "    return observation, reward, done, info\n",
    "  def reset(self):\n",
    "    ...\n",
    "    return observation  # reward, done, info can't be included\n",
    "  def render(self, mode='human'):\n",
    "    ...\n",
    "  def close (self):\n",
    "    ..."
   ]
  },
  {
   "cell_type": "markdown",
   "metadata": {
    "execution": {},
    "id": "KRxtg9Nb1dy-"
   },
   "source": [
    "As you are only changing the reward structure, you can inherit the [original Lunar Lander environment](https://github.com/openai/gym/blob/master/gym/envs/box2d/lunar_lander.py) and modify just the \"step\" function. Focus on modifying the following part of the code in the \"step\" function."
   ]
  },
  {
   "cell_type": "code",
   "execution_count": 22,
   "metadata": {
    "execution": {},
    "id": "-CHz7HpN1dy-"
   },
   "outputs": [],
   "source": [
    "class Custom_LunarLander(LunarLander):\n",
    "\n",
    "    def step(self, action):\n",
    "        assert self.lander is not None\n",
    "\n",
    "        # Update wind\n",
    "        assert self.lander is not None, \"You forgot to call reset()\"\n",
    "        if self.enable_wind and not (\n",
    "            self.legs[0].ground_contact or self.legs[1].ground_contact\n",
    "        ):\n",
    "            # the function used for wind is tanh(sin(2 k x) + sin(pi k x)),\n",
    "            # which is proven to never be periodic, k = 0.01\n",
    "            wind_mag = (\n",
    "                math.tanh(\n",
    "                    math.sin(0.02 * self.wind_idx)\n",
    "                    + (math.sin(math.pi * 0.01 * self.wind_idx))\n",
    "                )\n",
    "                * self.wind_power\n",
    "            )\n",
    "            self.wind_idx += 1\n",
    "            self.lander.ApplyForceToCenter(\n",
    "                (wind_mag, 0.0),\n",
    "                True,\n",
    "            )\n",
    "\n",
    "            # the function used for torque is tanh(sin(2 k x) + sin(pi k x)),\n",
    "            # which is proven to never be periodic, k = 0.01\n",
    "            torque_mag = math.tanh(\n",
    "                math.sin(0.02 * self.torque_idx)\n",
    "                + (math.sin(math.pi * 0.01 * self.torque_idx))\n",
    "            ) * (self.turbulence_power)\n",
    "            self.torque_idx += 1\n",
    "            self.lander.ApplyTorque(\n",
    "                (torque_mag),\n",
    "                True,\n",
    "            )\n",
    "\n",
    "        if self.continuous:\n",
    "            action = np.clip(action, -1, +1).astype(np.float32)\n",
    "        else:\n",
    "            assert self.action_space.contains(\n",
    "                action\n",
    "            ), f\"{action!r} ({type(action)}) invalid \"\n",
    "\n",
    "        # Engines\n",
    "        tip = (math.sin(self.lander.angle), math.cos(self.lander.angle))\n",
    "        side = (-tip[1], tip[0])\n",
    "        dispersion = [self.np_random.uniform(-1.0, +1.0) / SCALE for _ in range(2)]\n",
    "\n",
    "        m_power = 0.0\n",
    "        if (self.continuous and action[0] > 0.0) or (\n",
    "            not self.continuous and action == 2\n",
    "        ):\n",
    "            # Main engine\n",
    "            if self.continuous:\n",
    "                m_power = (np.clip(action[0], 0.0, 1.0) + 1.0) * 0.5  # 0.5..1.0\n",
    "                assert m_power >= 0.5 and m_power <= 1.0\n",
    "            else:\n",
    "                m_power = 1.0\n",
    "            # 4 is move a bit downwards, +-2 for randomness\n",
    "            ox = tip[0] * (4 / SCALE + 2 * dispersion[0]) + side[0] * dispersion[1]\n",
    "            oy = -tip[1] * (4 / SCALE + 2 * dispersion[0]) - side[1] * dispersion[1]\n",
    "            impulse_pos = (self.lander.position[0] + ox, self.lander.position[1] + oy)\n",
    "            p = self._create_particle(\n",
    "                3.5,  # 3.5 is here to make particle speed adequate\n",
    "                impulse_pos[0],\n",
    "                impulse_pos[1],\n",
    "                m_power,\n",
    "            )  # particles are just a decoration\n",
    "            p.ApplyLinearImpulse(\n",
    "                (ox * MAIN_ENGINE_POWER * m_power, oy * MAIN_ENGINE_POWER * m_power),\n",
    "                impulse_pos,\n",
    "                True,\n",
    "            )\n",
    "            self.lander.ApplyLinearImpulse(\n",
    "                (-ox * MAIN_ENGINE_POWER * m_power, -oy * MAIN_ENGINE_POWER * m_power),\n",
    "                impulse_pos,\n",
    "                True,\n",
    "            )\n",
    "\n",
    "        s_power = 0.0\n",
    "        if (self.continuous and np.abs(action[1]) > 0.5) or (\n",
    "            not self.continuous and action in [1, 3]\n",
    "        ):\n",
    "            # Orientation engines\n",
    "            if self.continuous:\n",
    "                direction = np.sign(action[1])\n",
    "                s_power = np.clip(np.abs(action[1]), 0.5, 1.0)\n",
    "                assert s_power >= 0.5 and s_power <= 1.0\n",
    "            else:\n",
    "                direction = action - 2\n",
    "                s_power = 1.0\n",
    "            ox = tip[0] * dispersion[0] + side[0] * (\n",
    "                3 * dispersion[1] + direction * SIDE_ENGINE_AWAY / SCALE\n",
    "            )\n",
    "            oy = -tip[1] * dispersion[0] - side[1] * (\n",
    "                3 * dispersion[1] + direction * SIDE_ENGINE_AWAY / SCALE\n",
    "            )\n",
    "            impulse_pos = (\n",
    "                self.lander.position[0] + ox - tip[0] * 17 / SCALE,\n",
    "                self.lander.position[1] + oy + tip[1] * SIDE_ENGINE_HEIGHT / SCALE,\n",
    "            )\n",
    "            p = self._create_particle(0.7, impulse_pos[0], impulse_pos[1], s_power)\n",
    "            p.ApplyLinearImpulse(\n",
    "                (ox * SIDE_ENGINE_POWER * s_power, oy * SIDE_ENGINE_POWER * s_power),\n",
    "                impulse_pos,\n",
    "                True,\n",
    "            )\n",
    "            self.lander.ApplyLinearImpulse(\n",
    "                (-ox * SIDE_ENGINE_POWER * s_power, -oy * SIDE_ENGINE_POWER * s_power),\n",
    "                impulse_pos,\n",
    "                True,\n",
    "            )\n",
    "\n",
    "        self.world.Step(1.0 / FPS, 6 * 30, 2 * 30)\n",
    "\n",
    "        pos = self.lander.position\n",
    "        vel = self.lander.linearVelocity\n",
    "        state = [\n",
    "            (pos.x - VIEWPORT_W / SCALE / 2) / (VIEWPORT_W / SCALE / 2),\n",
    "            (pos.y - (self.helipad_y + LEG_DOWN / SCALE)) / (VIEWPORT_H / SCALE / 2),\n",
    "            vel.x * (VIEWPORT_W / SCALE / 2) / FPS,\n",
    "            vel.y * (VIEWPORT_H / SCALE / 2) / FPS,\n",
    "            self.lander.angle,\n",
    "            20.0 * self.lander.angularVelocity / FPS,\n",
    "            1.0 if self.legs[0].ground_contact else 0.0,\n",
    "            1.0 if self.legs[1].ground_contact else 0.0,\n",
    "        ]\n",
    "        assert len(state) == 8\n",
    "\n",
    "        # Compare with / without shaping, referring the state description below\n",
    "        '''\n",
    "        state[0]: the horizontal coordinate\n",
    "        state[1]: the vertical coordinate\n",
    "        state[2]: the horizontal speed\n",
    "        state[3]: the vertical speed\n",
    "        state[4]: the angle\n",
    "        state[5]: the angular speed\n",
    "        state[6]: first leg contact\n",
    "        state[7]: second leg contact\n",
    "        '''\n",
    "        reward = 0\n",
    "        shaping = (\n",
    "            -100 * np.sqrt(state[0] * state[0] + state[1] * state[1])\n",
    "            - 100 * np.sqrt(state[2] * state[2] + state[3] * state[3])\n",
    "            - 100 * abs(state[4])\n",
    "            + 10 * state[6]\n",
    "            + 10 * state[7]\n",
    "        )  # And ten points for legs contact, the idea is if you\n",
    "        # lose contact again after landing, you get negative reward\n",
    "        if self.prev_shaping is not None:\n",
    "            reward = shaping - self.prev_shaping\n",
    "        self.prev_shaping = shaping\n",
    "\n",
    "        reward -= (\n",
    "            m_power * 0.30\n",
    "        )  # less fuel spent is better, about -30 for heuristic landing\n",
    "        reward -= s_power * 0.03\n",
    "\n",
    "        terminated = False\n",
    "        if self.game_over or abs(state[0]) >= 1.0:\n",
    "            terminated = True\n",
    "            reward = -100\n",
    "        if not self.lander.awake:\n",
    "            terminated = True\n",
    "            reward = +100\n",
    "\n",
    "        if self.render_mode == \"human\":\n",
    "            self.render()\n",
    "        return np.array(state, dtype=np.float32), reward, terminated, False, {}"
   ]
  },
  {
   "cell_type": "markdown",
   "metadata": {
    "execution": {},
    "id": "blG2C2J31dy-"
   },
   "source": [
    "Once you have cutomized your own environment, you can execute that environment by just calling:"
   ]
  },
  {
   "cell_type": "code",
   "execution_count": 23,
   "metadata": {
    "execution": {},
    "id": "1yVlnClG1dy_"
   },
   "outputs": [],
   "source": [
    "## Enter the name of the custome environment you created and uncomment the line below.\n",
    "# env = Custom_LunarLander()"
   ]
  },
  {
   "cell_type": "markdown",
   "metadata": {
    "execution": {},
    "id": "nIM6kcO41dy_"
   },
   "source": [
    "**Note:** Refer to [this page](https://stable-baselines3.readthedocs.io/en/master/guide/custom_env.html), if you would like to create more complex environments."
   ]
  },
  {
   "cell_type": "markdown",
   "metadata": {
    "execution": {},
    "id": "Zl_FBYRI1dy_"
   },
   "source": [
    "## 3 Identify the state information crucial to its performance.\n",
    "\n",
    "Your objective here is to alter the input state information and analyze the performance. The input state of the Lunar Lander consists of following components:\n",
    "\n",
    "  1. Horizontal Position\n",
    "  2. Vertical Position\n",
    "  3. Horizontal Velocity\n",
    "  4. Vertical Velocity\n",
    "  5. Angle\n",
    "  6. Angular Velocity\n",
    "  7. Left Leg Contact\n",
    "  8. Right Leg Contact\n",
    "\n",
    "You can train the algorithm by masking one of the eight components at a time and understand how that affects the performance of the algorithm. Similar to the reward shaping task, you would have to create a custom environment and modify the state space. Again, you can inherit all the necessary functions and modify the following portion of the \"Step\" function:\n",
    "\n",
    "```Python\n",
    "def step(self, actions):\n",
    "  ...\n",
    "  ...\n",
    "  ...\n",
    "  state = [ # Remove one component at a time to investigate the effect on performance!\n",
    "            (pos.x - VIEWPORT_W / SCALE / 2) / (VIEWPORT_W / SCALE / 2),\n",
    "            (pos.y - (self.helipad_y + LEG_DOWN / SCALE)) / (VIEWPORT_H / SCALE / 2),\n",
    "            vel.x * (VIEWPORT_W / SCALE / 2) / FPS,\n",
    "            vel.y * (VIEWPORT_H / SCALE / 2) / FPS,\n",
    "            self.lander.angle,\n",
    "            20.0 * self.lander.angularVelocity / FPS,\n",
    "            1.0 if self.legs[0].ground_contact else 0.0,\n",
    "            1.0 if self.legs[1].ground_contact else 0.0,\n",
    "        ]\n",
    "```"
   ]
  },
  {
   "cell_type": "markdown",
   "metadata": {
    "execution": {},
    "id": "XWmHpJ7-1dy_"
   },
   "source": [
    "## 4 Extension to Atari Games\n",
    "\n",
    "In the Lunar Lander task, the input to the algorithm is a vector of state information. Deep RL algorithms can also be applied when the input to the training is image frames, which is the case in the Atari games. For example, consider an Atari game - Pong. In this environment, the observation is an RGB image of the screen, which is an array of shape (210, 160, 3). To train the Pong game, you can start with the following sample code:"
   ]
  },
  {
   "cell_type": "code",
   "execution_count": 25,
   "metadata": {
    "execution": {},
    "id": "mOJ3ufz_1dy_"
   },
   "outputs": [],
   "source": [
    "## Taken from: https://colab.research.google.com/github/Stable-Baselines-Team/rl-colab-notebooks/blob/sb3/atari_games.ipynb#scrollTo=f3K4rMXwimBO\n",
    "env = make_atari_env('PongNoFrameskip-v4', n_envs=4, seed=0)\n",
    "\n",
    "## Atari Games take a lot of memory. Following commands crash on Coalb. Run the following code on Colab Pro or your local Jupyter notebook!\n",
    "# env = VecFrameStack(env, n_stack=4)\n",
    "# model = DQN('CnnPolicy', env, verbose=1)  # Note the difference here! We use 'CnnPolicy\" here instead of 'MlpPolicy' as the input is frames.\n",
    "# model.learn(total_timesteps=1) #change the number of timesteps as desired and run this command!"
   ]
  },
  {
   "cell_type": "markdown",
   "metadata": {
    "execution": {},
    "id": "_SpEZ2PL1dzA"
   },
   "source": [
    "## 5 Obstacle Avoidance and Transfer Learning\n",
    "\n",
    "Your obstacle here is to add an obstacle in the path of the lunar lander (by creating a custom environment as described in point 2 above) and train the model such that the lander lands safely, avoiding collisions.\n",
    "\n",
    "You would first want to devise a mechansim for adding obstacles. For example, you could have an imaginary obstacle at some horizantal and vertical position cooridnates and modify the reward function such that a penalty is levied if the lander comes close to it.\n",
    "\n",
    "An interesting approach to solve this problem is to apply the techniques of transfer learning. For example, you could initialise the neural network model with the weights of the trained model on the original problem to improve the sample effeciency. This can be done using the following code:"
   ]
  },
  {
   "cell_type": "code",
   "execution_count": 26,
   "metadata": {
    "execution": {},
    "id": "Am90OjJ_1dzA"
   },
   "outputs": [],
   "source": [
    "## Specify the load path and uncomment below:\n",
    "\n",
    "# model = load(load_path,\n",
    "#              env=gym.make('LunarLander-v2'),\n",
    "#              custom_objects=None, **kwargs)"
   ]
  },
  {
   "cell_type": "markdown",
   "metadata": {
    "execution": {},
    "id": "73YqjfQH1dzA"
   },
   "source": [
    "Following are some of the resources on transfer learning that you would want to start with.\n",
    "\n",
    "**Research Papers**\n",
    "\n",
    "Surveys:\n",
    "1. Taylor, M. E.,  et al. (2009). Transfer learning for reinforcement learning domains. url: [www.jmlr.org/papers/volume10/taylor09a/taylor09a](https://www.jmlr.org/papers/volume10/taylor09a/taylor09a.pdf)\n",
    "   - Long, Old, Highly cited\n",
    "\n",
    "2. Lazaric, A. (2012). Transfer in reinforcement learning: a framework and a survey. url: [hal.inria.fr/docs/00/77/26/26/PDF/transfer](https://hal.inria.fr/docs/00/77/26/26/PDF/transfer.pdf)\n",
    "   - Medium, Old, Good for a quick read\n",
    "\n",
    "3. Zhu, Z., Lin, K., & Zhou, J. (2020). Transfer learning in deep reinforcement learning. [arxiv:2009.07888](https://arxiv.org/pdf/2009.07888.pdf)\n",
    "  - Medium, Recent, Good for a quick read\n",
    "\n",
    "4. Barreto, A., et al. (2016). Successor features for transfer in reinforcement learning. [arxiv:1606.05312](https://arxiv.org/pdf/1606.05312)\n",
    "  - Specific example"
   ]
  },
  {
   "cell_type": "markdown",
   "metadata": {
    "execution": {},
    "id": "dvm9bxEW1dzB"
   },
   "source": [
    "## 5(b) Transfer Learning in minigrid environment\n",
    "\n",
    "These are some simple gridworld gym environments designed to be particularly simple, lightweight and fast. Refer to [this repo](https://github.com/maximecb/gym-minigrid) for a description of the environments. An example to load a minigrid environment is given below."
   ]
  },
  {
   "cell_type": "code",
   "execution_count": 8,
   "metadata": {
    "execution": {},
    "id": "UV2nPIcd1dzB"
   },
   "outputs": [],
   "source": [
    "env = gym.make('MiniGrid-Empty-5x5-v0', render_mode='rgb_array')"
   ]
  },
  {
   "cell_type": "markdown",
   "metadata": {
    "execution": {},
    "id": "ocARYeci1dzB"
   },
   "source": [
    "You can train a standard DQN agent in this env by wrapping the env with full image observation wrappers:\n"
   ]
  },
  {
   "cell_type": "code",
   "execution_count": 9,
   "metadata": {
    "execution": {},
    "id": "El4Zmxu51dzB"
   },
   "outputs": [],
   "source": [
    "env = minigrid.wrappers.ImgObsWrapper(minigrid.wrappers.RGBImgObsWrapper(env))"
   ]
  },
  {
   "cell_type": "markdown",
   "metadata": {
    "execution": {},
    "id": "MFwGwyVD1dzB"
   },
   "source": [
    "Note that with full image observations, the shape of the image observations may differ between envs. For e.g., MiniGrid-Empty-5x5-v0 is (40,40,3) while MiniGrid-Empty-8x8-v0 is (64,64,3). So you may need to resize the observations for transfer learning to work with the same DQN architecture.\n",
    "\n",
    "Now try training a DQN (or another method) in one (or multiple) minigrid env(s),and see if that knowledge transfers to another (or multiple other) minigrid env(s).\n"
   ]
  },
  {
   "cell_type": "markdown",
   "metadata": {
    "execution": {},
    "id": "Uhmkl8Ew1dzB"
   },
   "source": [
    "## 6 Preference-Based RL (PBRL)\n",
    "\n",
    "PBRL is an exciting sub-area in RL where the traditional reward structure is replaced with human preferences. This setting is very useful in applications where it is difficult to construct a reward function.\n",
    "\n",
    "In the earlier section, we have successfully trained the lunar lander to land safely. Here, the path that the lander follows to land safely can be arbitrary. In this project, using the techniques of PBRL, you will solve the lunar lander problem with an additional requirement that the lander should follow a specially curated path (for example, a straight line path). Following are some of the resources that will help you to get started with this project.\n",
    "\n",
    "**Research papers:**\n",
    "1. [Deep Reinforcement Learning from Human Preferences](https://papers.nips.cc/paper/2017/file/d5e2c0adad503c91f91df240d0cd4e49-Paper.pdf)\n",
    "2. [Deep Q-learning from Demonstrations](https://arxiv.org/pdf/1704.03732.pdf)\n",
    "3. [Reward learning from human preferences](https://arxiv.org/pdf/1811.06521.pdf)\n",
    "4. [T-REX](https://arxiv.org/pdf/1904.06387.pdf)\n",
    "\n",
    "**Code Bases:**\n",
    "1. [rl-teacher](https://github.com/nottombrown/rl-teacher)\n",
    "2. [ICML2019-TREX](https://github.com/hiwonjoon/ICML2019-TREX)"
   ]
  },
  {
   "cell_type": "markdown",
   "metadata": {
    "execution": {},
    "id": "hPxNb8hF1dzB"
   },
   "source": [
    "---\n",
    "# References\n",
    "\n",
    "1. [Stable Baselines Framework](https://stable-baselines3.readthedocs.io/en/master/guide/examples.html)\n",
    "2. [Lunar Lander Environment](https://gym.openai.com/envs/LunarLander-v2/)\n",
    "3. [OpenAI gym environments](https://gym.openai.com/docs/)\n",
    "4. [A good reference for introduction to RL](http://incompleteideas.net/book/the-book-2nd.html)\n"
   ]
  }
 ],
 "metadata": {
  "accelerator": "GPU",
  "colab": {
   "name": "lunar_lander",
   "provenance": []
  },
  "gpuClass": "standard",
  "kernel": {
   "display_name": "Python 3",
   "language": "python",
   "name": "python3"
  },
  "kernelspec": {
   "display_name": "Python 3 (ipykernel)",
   "language": "python",
   "name": "python3"
  },
  "language_info": {
   "codemirror_mode": {
    "name": "ipython",
    "version": 3
   },
   "file_extension": ".py",
   "mimetype": "text/x-python",
   "name": "python",
   "nbconvert_exporter": "python",
   "pygments_lexer": "ipython3",
   "version": "3.9.16"
  }
 },
 "nbformat": 4,
 "nbformat_minor": 0
}