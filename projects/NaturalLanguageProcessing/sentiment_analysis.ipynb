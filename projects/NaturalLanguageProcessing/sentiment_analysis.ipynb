{
  "cells": [
    {
      "cell_type": "markdown",
      "metadata": {
        "execution": {},
        "id": "gmVv7D-m408q"
      },
      "source": [
        "[![Open In Colab](https://colab.research.google.com/assets/colab-badge.svg)](https://colab.research.google.com/github/NeuromatchAcademy/course-content-dl/blob/main/projects/NaturalLanguageProcessing/sentiment_analysis.ipynb)\n",
        "[![Kaggle](https://kaggle.com/static/images/open-in-kaggle.svg)](https://kaggle.com/kernels/welcome?src=https://raw.githubusercontent.com/NeuromatchAcademy/course-content-dl/main/projects/NaturalLanguageProcessing/sentiment_analysis.ipynb)\n",
        "# Twitter Sentiment Analysis\n",
        "\n",
        "**By Neuromatch Academy**\n",
        "\n",
        "__Content creators:__  Juan Manuel Rodriguez, Salomey Osei, Gonzalo Uribarri\n",
        "\n",
        "__Production editors:__ Amita Kapoor, Spiros Chavlis"
      ]
    },
    {
      "cell_type": "markdown",
      "metadata": {
        "execution": {},
        "id": "SLYAT_mX408r"
      },
      "source": [
        "---\n",
        "# Welcome to the NLP project template\n",
        "\n",
        "<img src=\"https://imgs.xkcd.com/comics/machine_learning.png\">"
      ]
    },
    {
      "cell_type": "markdown",
      "metadata": {
        "execution": {},
        "id": "bqHw65kT408r"
      },
      "source": [
        "---\n",
        "# Step 1: Questions and goals\n",
        "\n",
        "* Can we infer emotion from a tweet text?\n",
        "* How words are distributed accross the dataset?\n",
        "* Are words related to one kind of emotion?"
      ]
    },
    {
      "cell_type": "markdown",
      "metadata": {
        "execution": {},
        "id": "WusdNDVO408s"
      },
      "source": [
        "---\n",
        "# Step 2: Literature review\n",
        "\n",
        "[Original Dataset Paper](https://cs.stanford.edu/people/alecmgo/papers/TwitterDistantSupervision09.pdf)\n",
        "\n",
        "[Papers with code](https://paperswithcode.com/dataset/imdb-movie-reviews)"
      ]
    },
    {
      "cell_type": "markdown",
      "metadata": {
        "execution": {},
        "id": "2gZqOEsi408s"
      },
      "source": [
        "---\n",
        "# Step 3: Load and explore the dataset"
      ]
    },
    {
      "cell_type": "code",
      "execution_count": 57,
      "metadata": {
        "execution": {},
        "id": "MaQzWdis408s"
      },
      "outputs": [],
      "source": [
        "# @title Install dependencies\n",
        "!pip install pandas --quiet\n",
        "!pip install --upgrade datasets --quiet"
      ]
    },
    {
      "cell_type": "code",
      "execution_count": 58,
      "metadata": {
        "execution": {},
        "id": "khRfI-Hd408t"
      },
      "outputs": [],
      "source": [
        "# We import some libraries to load the dataset\n",
        "import os\n",
        "import numpy as np\n",
        "import pandas as pd\n",
        "import matplotlib.pyplot as plt\n",
        "\n",
        "from collections import Counter\n",
        "from tqdm.notebook import tqdm\n",
        "\n",
        "import torch\n",
        "import torch.nn as nn\n",
        "import torch.optim as optim\n",
        "import torch.nn.functional as F\n",
        "from torch.utils.data import TensorDataset, DataLoader\n",
        "import spacy\n",
        "\n",
        "import re\n",
        "from sklearn.utils import shuffle\n",
        "from sklearn.metrics import classification_report\n",
        "from sklearn.linear_model import LogisticRegression\n",
        "from sklearn.model_selection import train_test_split\n",
        "from sklearn.feature_extraction.text import CountVectorizer"
      ]
    },
    {
      "cell_type": "markdown",
      "metadata": {
        "id": "9O_5bc-u96vm"
      },
      "source": [
        "## Helper functions"
      ]
    },
    {
      "cell_type": "code",
      "execution_count": 59,
      "metadata": {
        "id": "LkhmXBex98dv"
      },
      "outputs": [],
      "source": [
        "\n",
        "_patterns = [r\"\\'\", r\"\\\"\", r\"\\.\", r\"<br \\/>\", r\",\", r\"\\(\", r\"\\)\", r\"\\!\", r\"\\?\", r\"\\;\", r\"\\:\", r\"\\s+\"]\n",
        "\n",
        "_replacements = [\" '  \", \"\", \" . \", \" \", \" , \", \" ( \", \" ) \", \" ! \", \" ? \", \" \", \" \", \" \"]\n",
        "\n",
        "_patterns_dict = list((re.compile(p), r) for p, r in zip(_patterns, _replacements))\n",
        "\n",
        "def _basic_english_normalize(line):\n",
        "    r\"\"\"\n",
        "    Basic normalization for a line of text.\n",
        "    Normalization includes\n",
        "    - lowercasing\n",
        "    - complete some basic text normalization for English words as follows:\n",
        "        add spaces before and after '\\''\n",
        "        remove '\\\"',\n",
        "        add spaces before and after '.'\n",
        "        replace '<br \\/>'with single space\n",
        "        add spaces before and after ','\n",
        "        add spaces before and after '('\n",
        "        add spaces before and after ')'\n",
        "        add spaces before and after '!'\n",
        "        add spaces before and after '?'\n",
        "        replace ';' with single space\n",
        "        replace ':' with single space\n",
        "        replace multiple spaces with single space\n",
        "\n",
        "    Returns a list of tokens after splitting on whitespace.\n",
        "    \"\"\"\n",
        "\n",
        "    line = line.lower()\n",
        "    for pattern_re, replaced_str in _patterns_dict:\n",
        "        line = pattern_re.sub(replaced_str, line)\n",
        "    return line.split()\n",
        "\n",
        "\n",
        "\n",
        "def get_tokenizer(tokenizer, language='en'):\n",
        "    r\"\"\"\n",
        "    Generate tokenizer function for a string sentence.\n",
        "\n",
        "    Arguments:\n",
        "        tokenizer: the name of tokenizer function. If None, it returns split()\n",
        "            function, which splits the string sentence by space.\n",
        "            If basic_english, it returns _basic_english_normalize() function,\n",
        "            which normalize the string first and split by space. If a callable\n",
        "            function, it will return the function. If a tokenizer library\n",
        "            (e.g. spacy, moses, toktok, revtok, subword), it returns the\n",
        "            corresponding library.\n",
        "        language: Default en\n",
        "\n",
        "    Examples:\n",
        "        >>> import torchtext\n",
        "        >>> from torchtext.data import get_tokenizer\n",
        "        >>> tokenizer = get_tokenizer(\"basic_english\")\n",
        "        >>> tokens = tokenizer(\"You can now install TorchText using pip!\")\n",
        "        >>> tokens\n",
        "        >>> ['you', 'can', 'now', 'install', 'torchtext', 'using', 'pip', '!']\n",
        "\n",
        "    \"\"\"\n",
        "\n",
        "    # default tokenizer is string.split(), added as a module function for serialization\n",
        "\n",
        "\n",
        "    if tokenizer == \"basic_english\":\n",
        "        if language != 'en':\n",
        "            raise ValueError(\"Basic normalization is only available for Enlish(en)\")\n",
        "        return _basic_english_normalize\n",
        "\n",
        "    # simply return if a function is passed\n",
        "    if callable(tokenizer):\n",
        "        return tokenizer\n",
        "\n",
        "    if tokenizer == \"spacy\":\n",
        "        try:\n",
        "            import spacy\n",
        "            spacy = spacy.load(language)\n",
        "            return partial(_spacy_tokenize, spacy=spacy)\n",
        "        except ImportError:\n",
        "            print(\"Please install SpaCy. \"\n",
        "                  \"See the docs at https://spacy.io for more information.\")\n",
        "            raise\n",
        "        except AttributeError:\n",
        "            print(\"Please install SpaCy and the SpaCy {} tokenizer. \"\n",
        "                  \"See the docs at https://spacy.io for more \"\n",
        "                  \"information.\".format(language))\n",
        "            raise\n",
        "    elif tokenizer == \"moses\":\n",
        "        try:\n",
        "            from sacremoses import MosesTokenizer\n",
        "            moses_tokenizer = MosesTokenizer()\n",
        "            return moses_tokenizer.tokenize\n",
        "        except ImportError:\n",
        "            print(\"Please install SacreMoses. \"\n",
        "                  \"See the docs at https://github.com/alvations/sacremoses \"\n",
        "                  \"for more information.\")\n",
        "            raise\n",
        "    elif tokenizer == \"toktok\":\n",
        "        try:\n",
        "            from nltk.tokenize.toktok import ToktokTokenizer\n",
        "            toktok = ToktokTokenizer()\n",
        "            return toktok.tokenize\n",
        "        except ImportError:\n",
        "            print(\"Please install NLTK. \"\n",
        "                  \"See the docs at https://nltk.org  for more information.\")\n",
        "            raise\n",
        "    elif tokenizer == 'revtok':\n",
        "        try:\n",
        "            import revtok\n",
        "            return revtok.tokenize\n",
        "        except ImportError:\n",
        "            print(\"Please install revtok.\")\n",
        "            raise\n",
        "    elif tokenizer == 'subword':\n",
        "        try:\n",
        "            import revtok\n",
        "            return partial(revtok.tokenize, decap=True)\n",
        "        except ImportError:\n",
        "            print(\"Please install revtok.\")\n",
        "            raise\n",
        "    raise ValueError(\"Requested tokenizer {}, valid choices are a \"\n",
        "                     \"callable that takes a single string as input, \"\n",
        "                     \"\\\"revtok\\\" for the revtok reversible tokenizer, \"\n",
        "                     \"\\\"subword\\\" for the revtok caps-aware tokenizer, \"\n",
        "                     \"\\\"spacy\\\" for the SpaCy English tokenizer, or \"\n",
        "                     \"\\\"moses\\\" for the NLTK port of the Moses tokenization \"\n",
        "                     \"script.\".format(tokenizer))"
      ]
    },
    {
      "cell_type": "markdown",
      "metadata": {
        "id": "q5y8dtGWDDf5"
      },
      "source": [
        "## Dataset"
      ]
    },
    {
      "cell_type": "markdown",
      "metadata": {
        "execution": {},
        "id": "lbEufb0a408t"
      },
      "source": [
        "You can find the dataset we are going to use in [this website](https://huggingface.co/datasets/stanfordnlp/sentiment140)."
      ]
    },
    {
      "cell_type": "code",
      "execution_count": 60,
      "metadata": {
        "colab": {
          "base_uri": "https://localhost:8080/"
        },
        "execution": {},
        "id": "IG2lGLy0408t",
        "outputId": "1190ec11-3260-41e1-a745-fffe261ceab8"
      },
      "outputs": [
        {
          "output_type": "stream",
          "name": "stdout",
          "text": [
            "Traceback (most recent call last):\n",
            "  File \"/usr/local/bin/kaggle\", line 10, in <module>\n",
            "    sys.exit(main())\n",
            "             ^^^^^^\n",
            "  File \"/usr/local/lib/python3.11/dist-packages/kaggle/cli.py\", line 68, in main\n",
            "    out = args.func(**command_args)\n",
            "          ^^^^^^^^^^^^^^^^^^^^^^^^^\n",
            "  File \"/usr/local/lib/python3.11/dist-packages/kaggle/api/kaggle_api_extended.py\", line 1741, in dataset_download_cli\n",
            "    with self.build_kaggle_client() as kaggle:\n",
            "         ^^^^^^^^^^^^^^^^^^^^^^^^^^\n",
            "  File \"/usr/local/lib/python3.11/dist-packages/kaggle/api/kaggle_api_extended.py\", line 688, in build_kaggle_client\n",
            "    username=self.config_values['username'],\n",
            "             ~~~~~~~~~~~~~~~~~~^^^^^^^^^^^^\n",
            "KeyError: 'username'\n"
          ]
        }
      ],
      "source": [
        "# Download dataset from Kaggle and extract/Unzip it.\n",
        "!kaggle datasets download -d kazanova/sentiment140\n",
        "\n",
        "import requests, zipfile, io\n",
        "url = 'http://cs.stanford.edu/people/alecmgo/trainingandtestdata.zip'\n",
        "r = requests.get(url)\n",
        "z = zipfile.ZipFile(io.BytesIO(r.content))\n",
        "z.extractall()"
      ]
    },
    {
      "cell_type": "code",
      "execution_count": 61,
      "metadata": {
        "colab": {
          "base_uri": "https://localhost:8080/",
          "height": 206
        },
        "execution": {},
        "id": "aYPr47hr408t",
        "outputId": "597d9762-7b46-44b3-80dc-2b07b793bb75"
      },
      "outputs": [
        {
          "output_type": "execute_result",
          "data": {
            "text/plain": [
              "   polarity          id                          date     query  \\\n",
              "0         0  1467810369  Mon Apr 06 22:19:45 PDT 2009  NO_QUERY   \n",
              "1         0  1467810672  Mon Apr 06 22:19:49 PDT 2009  NO_QUERY   \n",
              "2         0  1467810917  Mon Apr 06 22:19:53 PDT 2009  NO_QUERY   \n",
              "3         0  1467811184  Mon Apr 06 22:19:57 PDT 2009  NO_QUERY   \n",
              "4         0  1467811193  Mon Apr 06 22:19:57 PDT 2009  NO_QUERY   \n",
              "\n",
              "              user                                               text  \n",
              "0  _TheSpecialOne_  @switchfoot http://twitpic.com/2y1zl - Awww, t...  \n",
              "1    scotthamilton  is upset that he can't update his Facebook by ...  \n",
              "2         mattycus  @Kenichan I dived many times for the ball. Man...  \n",
              "3          ElleCTF    my whole body feels itchy and like its on fire   \n",
              "4           Karoli  @nationwideclass no, it's not behaving at all....  "
            ],
            "text/html": [
              "\n",
              "  <div id=\"df-bfa1332f-c2df-490f-a5df-ac3c1c9110d1\" class=\"colab-df-container\">\n",
              "    <div>\n",
              "<style scoped>\n",
              "    .dataframe tbody tr th:only-of-type {\n",
              "        vertical-align: middle;\n",
              "    }\n",
              "\n",
              "    .dataframe tbody tr th {\n",
              "        vertical-align: top;\n",
              "    }\n",
              "\n",
              "    .dataframe thead th {\n",
              "        text-align: right;\n",
              "    }\n",
              "</style>\n",
              "<table border=\"1\" class=\"dataframe\">\n",
              "  <thead>\n",
              "    <tr style=\"text-align: right;\">\n",
              "      <th></th>\n",
              "      <th>polarity</th>\n",
              "      <th>id</th>\n",
              "      <th>date</th>\n",
              "      <th>query</th>\n",
              "      <th>user</th>\n",
              "      <th>text</th>\n",
              "    </tr>\n",
              "  </thead>\n",
              "  <tbody>\n",
              "    <tr>\n",
              "      <th>0</th>\n",
              "      <td>0</td>\n",
              "      <td>1467810369</td>\n",
              "      <td>Mon Apr 06 22:19:45 PDT 2009</td>\n",
              "      <td>NO_QUERY</td>\n",
              "      <td>_TheSpecialOne_</td>\n",
              "      <td>@switchfoot http://twitpic.com/2y1zl - Awww, t...</td>\n",
              "    </tr>\n",
              "    <tr>\n",
              "      <th>1</th>\n",
              "      <td>0</td>\n",
              "      <td>1467810672</td>\n",
              "      <td>Mon Apr 06 22:19:49 PDT 2009</td>\n",
              "      <td>NO_QUERY</td>\n",
              "      <td>scotthamilton</td>\n",
              "      <td>is upset that he can't update his Facebook by ...</td>\n",
              "    </tr>\n",
              "    <tr>\n",
              "      <th>2</th>\n",
              "      <td>0</td>\n",
              "      <td>1467810917</td>\n",
              "      <td>Mon Apr 06 22:19:53 PDT 2009</td>\n",
              "      <td>NO_QUERY</td>\n",
              "      <td>mattycus</td>\n",
              "      <td>@Kenichan I dived many times for the ball. Man...</td>\n",
              "    </tr>\n",
              "    <tr>\n",
              "      <th>3</th>\n",
              "      <td>0</td>\n",
              "      <td>1467811184</td>\n",
              "      <td>Mon Apr 06 22:19:57 PDT 2009</td>\n",
              "      <td>NO_QUERY</td>\n",
              "      <td>ElleCTF</td>\n",
              "      <td>my whole body feels itchy and like its on fire</td>\n",
              "    </tr>\n",
              "    <tr>\n",
              "      <th>4</th>\n",
              "      <td>0</td>\n",
              "      <td>1467811193</td>\n",
              "      <td>Mon Apr 06 22:19:57 PDT 2009</td>\n",
              "      <td>NO_QUERY</td>\n",
              "      <td>Karoli</td>\n",
              "      <td>@nationwideclass no, it's not behaving at all....</td>\n",
              "    </tr>\n",
              "  </tbody>\n",
              "</table>\n",
              "</div>\n",
              "    <div class=\"colab-df-buttons\">\n",
              "\n",
              "  <div class=\"colab-df-container\">\n",
              "    <button class=\"colab-df-convert\" onclick=\"convertToInteractive('df-bfa1332f-c2df-490f-a5df-ac3c1c9110d1')\"\n",
              "            title=\"Convert this dataframe to an interactive table.\"\n",
              "            style=\"display:none;\">\n",
              "\n",
              "  <svg xmlns=\"http://www.w3.org/2000/svg\" height=\"24px\" viewBox=\"0 -960 960 960\">\n",
              "    <path d=\"M120-120v-720h720v720H120Zm60-500h600v-160H180v160Zm220 220h160v-160H400v160Zm0 220h160v-160H400v160ZM180-400h160v-160H180v160Zm440 0h160v-160H620v160ZM180-180h160v-160H180v160Zm440 0h160v-160H620v160Z\"/>\n",
              "  </svg>\n",
              "    </button>\n",
              "\n",
              "  <style>\n",
              "    .colab-df-container {\n",
              "      display:flex;\n",
              "      gap: 12px;\n",
              "    }\n",
              "\n",
              "    .colab-df-convert {\n",
              "      background-color: #E8F0FE;\n",
              "      border: none;\n",
              "      border-radius: 50%;\n",
              "      cursor: pointer;\n",
              "      display: none;\n",
              "      fill: #1967D2;\n",
              "      height: 32px;\n",
              "      padding: 0 0 0 0;\n",
              "      width: 32px;\n",
              "    }\n",
              "\n",
              "    .colab-df-convert:hover {\n",
              "      background-color: #E2EBFA;\n",
              "      box-shadow: 0px 1px 2px rgba(60, 64, 67, 0.3), 0px 1px 3px 1px rgba(60, 64, 67, 0.15);\n",
              "      fill: #174EA6;\n",
              "    }\n",
              "\n",
              "    .colab-df-buttons div {\n",
              "      margin-bottom: 4px;\n",
              "    }\n",
              "\n",
              "    [theme=dark] .colab-df-convert {\n",
              "      background-color: #3B4455;\n",
              "      fill: #D2E3FC;\n",
              "    }\n",
              "\n",
              "    [theme=dark] .colab-df-convert:hover {\n",
              "      background-color: #434B5C;\n",
              "      box-shadow: 0px 1px 3px 1px rgba(0, 0, 0, 0.15);\n",
              "      filter: drop-shadow(0px 1px 2px rgba(0, 0, 0, 0.3));\n",
              "      fill: #FFFFFF;\n",
              "    }\n",
              "  </style>\n",
              "\n",
              "    <script>\n",
              "      const buttonEl =\n",
              "        document.querySelector('#df-bfa1332f-c2df-490f-a5df-ac3c1c9110d1 button.colab-df-convert');\n",
              "      buttonEl.style.display =\n",
              "        google.colab.kernel.accessAllowed ? 'block' : 'none';\n",
              "\n",
              "      async function convertToInteractive(key) {\n",
              "        const element = document.querySelector('#df-bfa1332f-c2df-490f-a5df-ac3c1c9110d1');\n",
              "        const dataTable =\n",
              "          await google.colab.kernel.invokeFunction('convertToInteractive',\n",
              "                                                    [key], {});\n",
              "        if (!dataTable) return;\n",
              "\n",
              "        const docLinkHtml = 'Like what you see? Visit the ' +\n",
              "          '<a target=\"_blank\" href=https://colab.research.google.com/notebooks/data_table.ipynb>data table notebook</a>'\n",
              "          + ' to learn more about interactive tables.';\n",
              "        element.innerHTML = '';\n",
              "        dataTable['output_type'] = 'display_data';\n",
              "        await google.colab.output.renderOutput(dataTable, element);\n",
              "        const docLink = document.createElement('div');\n",
              "        docLink.innerHTML = docLinkHtml;\n",
              "        element.appendChild(docLink);\n",
              "      }\n",
              "    </script>\n",
              "  </div>\n",
              "\n",
              "\n",
              "    <div id=\"df-e4e8ea71-c333-4376-865c-fcafc9bcad46\">\n",
              "      <button class=\"colab-df-quickchart\" onclick=\"quickchart('df-e4e8ea71-c333-4376-865c-fcafc9bcad46')\"\n",
              "                title=\"Suggest charts\"\n",
              "                style=\"display:none;\">\n",
              "\n",
              "<svg xmlns=\"http://www.w3.org/2000/svg\" height=\"24px\"viewBox=\"0 0 24 24\"\n",
              "     width=\"24px\">\n",
              "    <g>\n",
              "        <path d=\"M19 3H5c-1.1 0-2 .9-2 2v14c0 1.1.9 2 2 2h14c1.1 0 2-.9 2-2V5c0-1.1-.9-2-2-2zM9 17H7v-7h2v7zm4 0h-2V7h2v10zm4 0h-2v-4h2v4z\"/>\n",
              "    </g>\n",
              "</svg>\n",
              "      </button>\n",
              "\n",
              "<style>\n",
              "  .colab-df-quickchart {\n",
              "      --bg-color: #E8F0FE;\n",
              "      --fill-color: #1967D2;\n",
              "      --hover-bg-color: #E2EBFA;\n",
              "      --hover-fill-color: #174EA6;\n",
              "      --disabled-fill-color: #AAA;\n",
              "      --disabled-bg-color: #DDD;\n",
              "  }\n",
              "\n",
              "  [theme=dark] .colab-df-quickchart {\n",
              "      --bg-color: #3B4455;\n",
              "      --fill-color: #D2E3FC;\n",
              "      --hover-bg-color: #434B5C;\n",
              "      --hover-fill-color: #FFFFFF;\n",
              "      --disabled-bg-color: #3B4455;\n",
              "      --disabled-fill-color: #666;\n",
              "  }\n",
              "\n",
              "  .colab-df-quickchart {\n",
              "    background-color: var(--bg-color);\n",
              "    border: none;\n",
              "    border-radius: 50%;\n",
              "    cursor: pointer;\n",
              "    display: none;\n",
              "    fill: var(--fill-color);\n",
              "    height: 32px;\n",
              "    padding: 0;\n",
              "    width: 32px;\n",
              "  }\n",
              "\n",
              "  .colab-df-quickchart:hover {\n",
              "    background-color: var(--hover-bg-color);\n",
              "    box-shadow: 0 1px 2px rgba(60, 64, 67, 0.3), 0 1px 3px 1px rgba(60, 64, 67, 0.15);\n",
              "    fill: var(--button-hover-fill-color);\n",
              "  }\n",
              "\n",
              "  .colab-df-quickchart-complete:disabled,\n",
              "  .colab-df-quickchart-complete:disabled:hover {\n",
              "    background-color: var(--disabled-bg-color);\n",
              "    fill: var(--disabled-fill-color);\n",
              "    box-shadow: none;\n",
              "  }\n",
              "\n",
              "  .colab-df-spinner {\n",
              "    border: 2px solid var(--fill-color);\n",
              "    border-color: transparent;\n",
              "    border-bottom-color: var(--fill-color);\n",
              "    animation:\n",
              "      spin 1s steps(1) infinite;\n",
              "  }\n",
              "\n",
              "  @keyframes spin {\n",
              "    0% {\n",
              "      border-color: transparent;\n",
              "      border-bottom-color: var(--fill-color);\n",
              "      border-left-color: var(--fill-color);\n",
              "    }\n",
              "    20% {\n",
              "      border-color: transparent;\n",
              "      border-left-color: var(--fill-color);\n",
              "      border-top-color: var(--fill-color);\n",
              "    }\n",
              "    30% {\n",
              "      border-color: transparent;\n",
              "      border-left-color: var(--fill-color);\n",
              "      border-top-color: var(--fill-color);\n",
              "      border-right-color: var(--fill-color);\n",
              "    }\n",
              "    40% {\n",
              "      border-color: transparent;\n",
              "      border-right-color: var(--fill-color);\n",
              "      border-top-color: var(--fill-color);\n",
              "    }\n",
              "    60% {\n",
              "      border-color: transparent;\n",
              "      border-right-color: var(--fill-color);\n",
              "    }\n",
              "    80% {\n",
              "      border-color: transparent;\n",
              "      border-right-color: var(--fill-color);\n",
              "      border-bottom-color: var(--fill-color);\n",
              "    }\n",
              "    90% {\n",
              "      border-color: transparent;\n",
              "      border-bottom-color: var(--fill-color);\n",
              "    }\n",
              "  }\n",
              "</style>\n",
              "\n",
              "      <script>\n",
              "        async function quickchart(key) {\n",
              "          const quickchartButtonEl =\n",
              "            document.querySelector('#' + key + ' button');\n",
              "          quickchartButtonEl.disabled = true;  // To prevent multiple clicks.\n",
              "          quickchartButtonEl.classList.add('colab-df-spinner');\n",
              "          try {\n",
              "            const charts = await google.colab.kernel.invokeFunction(\n",
              "                'suggestCharts', [key], {});\n",
              "          } catch (error) {\n",
              "            console.error('Error during call to suggestCharts:', error);\n",
              "          }\n",
              "          quickchartButtonEl.classList.remove('colab-df-spinner');\n",
              "          quickchartButtonEl.classList.add('colab-df-quickchart-complete');\n",
              "        }\n",
              "        (() => {\n",
              "          let quickchartButtonEl =\n",
              "            document.querySelector('#df-e4e8ea71-c333-4376-865c-fcafc9bcad46 button');\n",
              "          quickchartButtonEl.style.display =\n",
              "            google.colab.kernel.accessAllowed ? 'block' : 'none';\n",
              "        })();\n",
              "      </script>\n",
              "    </div>\n",
              "\n",
              "    </div>\n",
              "  </div>\n"
            ],
            "application/vnd.google.colaboratory.intrinsic+json": {
              "type": "dataframe",
              "variable_name": "df"
            }
          },
          "metadata": {},
          "execution_count": 61
        }
      ],
      "source": [
        "# We load the dataset\n",
        "# We load the dataset\n",
        "header_list = [\"polarity\", \"id\", \"date\", \"query\", \"user\", \"text\"]\n",
        "df = pd.read_csv('training.1600000.processed.noemoticon.csv',\n",
        "                 encoding = \"ISO-8859-1\", names=header_list)\n",
        "\n",
        "# Limit the dataset size\n",
        "DATASET_SIZE=10000\n",
        "#df = df[:DATASET_SIZE]\n",
        "\n",
        "# Show the first few rows\n",
        "df.head()"
      ]
    },
    {
      "cell_type": "markdown",
      "metadata": {
        "execution": {},
        "id": "ERu11VA9408t"
      },
      "source": [
        "For this project we will use only the text and the polarity of the tweet. Notice that polarity is 0 for negative tweets and 4 for positive tweet."
      ]
    },
    {
      "cell_type": "code",
      "execution_count": 62,
      "metadata": {
        "execution": {},
        "id": "NPKvLsWn408t"
      },
      "outputs": [],
      "source": [
        "X = df.text.values\n",
        "\n",
        "# Changes values from [0,4] to [0,1]\n",
        "y = (df.polarity.values > 1).astype(int)\n",
        "\n",
        "\n",
        "# Split the data into train and test\n",
        "x_train_text, x_test_text, y_train, y_test = train_test_split(X, y, test_size=0.2, random_state=42,stratify=y)"
      ]
    },
    {
      "cell_type": "markdown",
      "metadata": {
        "execution": {},
        "id": "WCASa3uZ408t"
      },
      "source": [
        "The first thing we have to do before working on the models is to familiarize ourselves with the dataset. This is called Exploratory Data Analisys (EDA)."
      ]
    },
    {
      "cell_type": "code",
      "execution_count": 63,
      "metadata": {
        "colab": {
          "base_uri": "https://localhost:8080/"
        },
        "execution": {},
        "id": "t1AaEiyb408u",
        "outputId": "361be7ac-aadc-4b6f-a6cd-5db5744a865d"
      },
      "outputs": [
        {
          "output_type": "stream",
          "name": "stdout",
          "text": [
            "1: @paisleypaisley LOL why do i get ideas so far in advance? it's not even june yet! we need a third knitter to have our own summer group \n",
            "0: worst headache ever \n",
            "0: @ewaniesciuszko  i am so sad i wont see you! I miss you already. and yeah! that's perfect; i come back the 18th!\n",
            "1: doesn't know how to spell conked \n",
            "0: &quot;So we stand here now and no one knows us at all I won't get used to this I won't get used to being gone&quot;...I miss home and everyone  -a\n"
          ]
        }
      ],
      "source": [
        "for s, l in zip(x_train_text[:5], y_train[:5]):\n",
        "  print('{}: {}'.format(l, s))"
      ]
    },
    {
      "cell_type": "markdown",
      "metadata": {
        "execution": {},
        "id": "zfATsDv_408u"
      },
      "source": [
        "An interesting thing to analyze is the Word Distribution. In order to count the occurrences of each word, we should tokenize the sentences first."
      ]
    },
    {
      "cell_type": "code",
      "execution_count": 64,
      "metadata": {
        "colab": {
          "base_uri": "https://localhost:8080/"
        },
        "execution": {},
        "id": "eiuqj2a4408u",
        "outputId": "b0dc914e-4f75-4b23-c592-e5ed1df4856e"
      },
      "outputs": [
        {
          "output_type": "stream",
          "name": "stdout",
          "text": [
            "Before Tokenize:  worst headache ever \n",
            "After Tokenize:  ['worst', 'headache', 'ever']\n"
          ]
        }
      ],
      "source": [
        "tokenizer = get_tokenizer(\"basic_english\")\n",
        "\n",
        "print('Before Tokenize: ', x_train_text[1])\n",
        "print('After Tokenize: ', tokenizer(x_train_text[1]))"
      ]
    },
    {
      "cell_type": "code",
      "execution_count": 65,
      "metadata": {
        "colab": {
          "base_uri": "https://localhost:8080/",
          "height": 81,
          "referenced_widgets": [
            "804118ce888a4b58b15165450dcaae25",
            "2f42d886f50e4a998c09e0534b1b31ff",
            "549ea8708efe48d6ada0c12bb7aee67c",
            "0435787bbcff49e6a3d374c46edc86c3",
            "16967b11e832474b90dc6a23fa7502c0",
            "a70aecd7e4074bf880d0e0f2fb5dd9a0",
            "8bdf76ead1b44094893ac1c05292961a",
            "dbf9e06311ca4c8da73185a148a5c057",
            "26146c6780034643abf028631be64e6b",
            "234808965bb948629e8ed2a321581734",
            "557f3967342e4623a1b3d4cb12b5df6e",
            "515bc6f00e5f47489e7d14087ad2f059",
            "79bdfd064cb84b4e977e33b48c80eba0",
            "fc9a58eb932b46a890cdf3d2404a1925",
            "7f65358a691540cca207056d6ad28238",
            "75ca785093df4f6986fe735aee1590a6",
            "b453121b15144295b915b662ed7bc2e2",
            "1ebbab31c8e943a5a6877bd625d7a60f",
            "852678a282c446dba1aeff1329064b7b",
            "95606f9b47784d438b76ce7ce68c062f",
            "6ae4b453ae454024819180c0b6ec95d1",
            "d84476d52a2f47619208376599c1b3dd"
          ]
        },
        "execution": {},
        "id": "G9o2Pq1F408u",
        "outputId": "a857c480-d505-4f99-9140-59eeab5c42ca"
      },
      "outputs": [
        {
          "output_type": "display_data",
          "data": {
            "text/plain": [
              "  0%|          | 0/1280000 [00:00<?, ?it/s]"
            ],
            "application/vnd.jupyter.widget-view+json": {
              "version_major": 2,
              "version_minor": 0,
              "model_id": "804118ce888a4b58b15165450dcaae25"
            }
          },
          "metadata": {}
        },
        {
          "output_type": "display_data",
          "data": {
            "text/plain": [
              "  0%|          | 0/320000 [00:00<?, ?it/s]"
            ],
            "application/vnd.jupyter.widget-view+json": {
              "version_major": 2,
              "version_minor": 0,
              "model_id": "515bc6f00e5f47489e7d14087ad2f059"
            }
          },
          "metadata": {}
        }
      ],
      "source": [
        "x_train_token = [tokenizer(s) for s in tqdm(x_train_text)]\n",
        "x_test_token = [tokenizer(s) for s in tqdm(x_test_text)]"
      ]
    },
    {
      "cell_type": "markdown",
      "metadata": {
        "execution": {},
        "id": "sk665A8Z408u"
      },
      "source": [
        "We can count the words occurences and see how many different words are present in our dataset."
      ]
    },
    {
      "cell_type": "code",
      "execution_count": 66,
      "metadata": {
        "colab": {
          "base_uri": "https://localhost:8080/"
        },
        "execution": {},
        "id": "9wh6kmNJ408u",
        "outputId": "bc6db315-d6b4-4ca0-b326-62e149964ac5"
      },
      "outputs": [
        {
          "output_type": "stream",
          "name": "stdout",
          "text": [
            "Number of different Tokens in our Dataset: 669284\n",
            "['.', 'i', '!', \"'\", 'to', 'the', ',', 'a', 'my', 'it', 'and', 'you', '?', 'is', 'for', 'in', 's', 'of', 't', 'on', 'that', 'me', 'so', 'have', 'm', 'but', 'just', 'with', 'be', 'at', 'not', 'was', 'this', 'now', 'can', 'good', 'up', 'day', 'all', 'get', 'out', 'like', 'are', 'no', 'go', 'http', '-', 'today', 'do', 'too', 'your', 'work', 'going', 'love', 'we', 'got', 'what', 'lol', 'time', 'back', 'from', 'u', 'one', 'will', 'know', 'about', 'im', 'really', 'don', 'am', 'had', ')', 'see', 'some', 'there', 'its', '&amp', 'how', 'if', 'still', 'they', '&quot', 'night', '(', 'well', 'want', 'new', 'think', '2', 'home', 'thanks', 'll', 'oh', 'when', 'as', 'he', 'more', 'here', 'much', 'off']\n"
          ]
        }
      ],
      "source": [
        "words = Counter()\n",
        "for s in x_train_token:\n",
        "  for w in s:\n",
        "    words[w] += 1\n",
        "\n",
        "sorted_words = list(words.keys())\n",
        "sorted_words.sort(key=lambda w: words[w], reverse=True)\n",
        "print(f\"Number of different Tokens in our Dataset: {len(sorted_words)}\")\n",
        "print(sorted_words[:100])"
      ]
    },
    {
      "cell_type": "markdown",
      "metadata": {
        "execution": {},
        "id": "GU-nlub0408u"
      },
      "source": [
        "Now we can plot their distribution."
      ]
    },
    {
      "cell_type": "code",
      "execution_count": 67,
      "metadata": {
        "colab": {
          "base_uri": "https://localhost:8080/"
        },
        "execution": {},
        "id": "JImp63mH408u",
        "outputId": "d63f6735-22da-43e8-c25e-5a2874ac0ead"
      },
      "outputs": [
        {
          "output_type": "stream",
          "name": "stdout",
          "text": [
            "The 0.13970153178620734% most common words account for the 80.00532743602652% of the occurrences\n"
          ]
        }
      ],
      "source": [
        "count_occurences = sum(words.values())\n",
        "\n",
        "accumulated = 0\n",
        "counter = 0\n",
        "\n",
        "while accumulated < count_occurences * 0.8:\n",
        "  accumulated += words[sorted_words[counter]]\n",
        "  counter += 1\n",
        "\n",
        "print(f\"The {counter * 100 / len(words)}% most common words \"\n",
        "      f\"account for the {accumulated * 100 / count_occurences}% of the occurrences\")"
      ]
    },
    {
      "cell_type": "code",
      "execution_count": 68,
      "metadata": {
        "colab": {
          "base_uri": "https://localhost:8080/",
          "height": 445
        },
        "execution": {},
        "id": "HCz-yulK408u",
        "outputId": "f93366dc-84a4-42f9-d33f-98098b251be4"
      },
      "outputs": [
        {
          "output_type": "display_data",
          "data": {
            "text/plain": [
              "<Figure size 640x480 with 1 Axes>"
            ],
            "image/png": "[encoded data removed]"
          },
          "metadata": {}
        }
      ],
      "source": [
        "plt.bar(range(100), [words[w] for w in sorted_words[:100]])\n",
        "plt.show()"
      ]
    },
    {
      "cell_type": "markdown",
      "metadata": {
        "execution": {},
        "id": "LPgDSWyl408u"
      },
      "source": [
        "It is very common to find this kind of distribution when analyzing corpus of text. This is referred to as the [zipf's law](https://en.wikipedia.org/wiki/Zipf%27s_law)."
      ]
    },
    {
      "cell_type": "markdown",
      "metadata": {
        "execution": {},
        "id": "ULeX_ty0408u"
      },
      "source": [
        "Usually the number of words in the dictionary will be very large.\n",
        "\n",
        "Here are some thing we can do to reduce that number:\n",
        "\n",
        "* Remove puntuation.\n",
        "* Remove stop-words.\n",
        "* Steaming.\n",
        "* Remove very uncommon words (the words that appears in fewer than N occations).\n",
        "* Nothing: we can use a pretrain model that handles this kind of situations.\n",
        "\n",
        "\n",
        "We used one of the simplest tokenizers availables. This tokenizer does not take into account many quirks of the language. Moreover, diferent languages have different quirks, so there is no \"universal\" tokenizers. There are many libraries that have \"better\" tokenizers:\n",
        "\n",
        "* [Spacy](https://spacy.io/): it can be accessed using: `get_tokenizer(\"spacy\")`. Spacy supports a wide range of languages.\n",
        "* [Huggingface](https://huggingface.co/): it has many tokenizers for different laguages. [Doc](https://huggingface.co/transformers/main_classes/tokenizer.html)\n",
        "* [NLTK](https://www.nltk.org/): it provides several tokenizers. One of them can be accessed using: `get_tokenizer(\"toktok\")`\n"
      ]
    },
    {
      "cell_type": "markdown",
      "metadata": {
        "execution": {},
        "id": "6eHlgRz1408u"
      },
      "source": [
        "---\n",
        "# Step 4: choose toolkit\n",
        "\n",
        "Our goal is to train a model capable of estimating the sentiment of a tweet (positive or negative) by reading its content. To that end we will try 2 different approaches:\n",
        "\n",
        "* A logistic regression using sklearn. **NOTE**: it can probaly work better than an SVM model.\n",
        "* A simple Embedding + RNN."
      ]
    },
    {
      "cell_type": "markdown",
      "metadata": {
        "execution": {},
        "id": "No62nObP408u"
      },
      "source": [
        "## Logistic regression\n",
        "\n",
        "We will represent our senteces using binary vectorization. This means that our data would be represented as a matrix of instances by word with a one if the word is in the instance, and zero otherwise. Sklean vectorizers can also do things such as stop-word removal and puntuation removal, you can read more about in [the documentation](https://scikit-learn.org/stable/modules/generated/sklearn.feature_extraction.text.CountVectorizer.html)."
      ]
    },
    {
      "cell_type": "code",
      "execution_count": 69,
      "metadata": {
        "execution": {},
        "id": "fUiIco_P408u"
      },
      "outputs": [],
      "source": [
        "vectorizer = CountVectorizer(binary=True)\n",
        "x_train_cv = vectorizer.fit_transform(x_train_text)\n",
        "x_test_cv = vectorizer.transform(x_test_text)"
      ]
    },
    {
      "cell_type": "code",
      "execution_count": 70,
      "metadata": {
        "colab": {
          "base_uri": "https://localhost:8080/"
        },
        "execution": {},
        "id": "rkXHy46t408u",
        "outputId": "5c8843c8-cf9e-4376-898a-f016a32823ac"
      },
      "outputs": [
        {
          "output_type": "stream",
          "name": "stdout",
          "text": [
            "Before Vectorize:  doesn't know how to spell conked \n"
          ]
        }
      ],
      "source": [
        "print('Before Vectorize: ', x_train_text[3])"
      ]
    },
    {
      "cell_type": "code",
      "execution_count": 71,
      "metadata": {
        "colab": {
          "base_uri": "https://localhost:8080/"
        },
        "execution": {},
        "id": "78JawwmI408v",
        "outputId": "90d051bd-467b-4800-9099-778207375b4b"
      },
      "outputs": [
        {
          "output_type": "stream",
          "name": "stdout",
          "text": [
            "After Vectorize: \n",
            "<Compressed Sparse Row sparse matrix of dtype 'int64'\n",
            "\twith 6 stored elements and shape (1, 589260)>\n",
            "  Coords\tValues\n",
            "  (0, 528584)\t1\n",
            "  (0, 165468)\t1\n",
            "  (0, 300381)\t1\n",
            "  (0, 242211)\t1\n",
            "  (0, 489893)\t1\n",
            "  (0, 134160)\t1\n"
          ]
        }
      ],
      "source": [
        "# Notice that the matriz is sparse\n",
        "print('After Vectorize: ')\n",
        "print(x_train_cv[3])"
      ]
    },
    {
      "cell_type": "markdown",
      "metadata": {
        "execution": {},
        "id": "fVy17gI9408v"
      },
      "source": [
        "Now we can train our model. You can check the documentation of this logistic regressor [here](https://scikit-learn.org/stable/modules/generated/sklearn.linear_model.LogisticRegression.html?highlight=logistic#sklearn.linear_model.LogisticRegression)."
      ]
    },
    {
      "cell_type": "code",
      "execution_count": 72,
      "metadata": {
        "colab": {
          "base_uri": "https://localhost:8080/",
          "height": 80
        },
        "execution": {},
        "id": "oMNUZaew408v",
        "outputId": "b551ec72-8306-41a5-9a69-c5f8ff82833f"
      },
      "outputs": [
        {
          "output_type": "execute_result",
          "data": {
            "text/plain": [
              "LogisticRegression(solver='saga')"
            ],
            "text/html": [
              "<style>#sk-container-id-2 {\n",
              "  /* Definition of color scheme common for light and dark mode */\n",
              "  --sklearn-color-text: #000;\n",
              "  --sklearn-color-text-muted: #666;\n",
              "  --sklearn-color-line: gray;\n",
              "  /* Definition of color scheme for unfitted estimators */\n",
              "  --sklearn-color-unfitted-level-0: #fff5e6;\n",
              "  --sklearn-color-unfitted-level-1: #f6e4d2;\n",
              "  --sklearn-color-unfitted-level-2: #ffe0b3;\n",
              "  --sklearn-color-unfitted-level-3: chocolate;\n",
              "  /* Definition of color scheme for fitted estimators */\n",
              "  --sklearn-color-fitted-level-0: #f0f8ff;\n",
              "  --sklearn-color-fitted-level-1: #d4ebff;\n",
              "  --sklearn-color-fitted-level-2: #b3dbfd;\n",
              "  --sklearn-color-fitted-level-3: cornflowerblue;\n",
              "\n",
              "  /* Specific color for light theme */\n",
              "  --sklearn-color-text-on-default-background: var(--sg-text-color, var(--theme-code-foreground, var(--jp-content-font-color1, black)));\n",
              "  --sklearn-color-background: var(--sg-background-color, var(--theme-background, var(--jp-layout-color0, white)));\n",
              "  --sklearn-color-border-box: var(--sg-text-color, var(--theme-code-foreground, var(--jp-content-font-color1, black)));\n",
              "  --sklearn-color-icon: #696969;\n",
              "\n",
              "  @media (prefers-color-scheme: dark) {\n",
              "    /* Redefinition of color scheme for dark theme */\n",
              "    --sklearn-color-text-on-default-background: var(--sg-text-color, var(--theme-code-foreground, var(--jp-content-font-color1, white)));\n",
              "    --sklearn-color-background: var(--sg-background-color, var(--theme-background, var(--jp-layout-color0, #111)));\n",
              "    --sklearn-color-border-box: var(--sg-text-color, var(--theme-code-foreground, var(--jp-content-font-color1, white)));\n",
              "    --sklearn-color-icon: #878787;\n",
              "  }\n",
              "}\n",
              "\n",
              "#sk-container-id-2 {\n",
              "  color: var(--sklearn-color-text);\n",
              "}\n",
              "\n",
              "#sk-container-id-2 pre {\n",
              "  padding: 0;\n",
              "}\n",
              "\n",
              "#sk-container-id-2 input.sk-hidden--visually {\n",
              "  border: 0;\n",
              "  clip: rect(1px 1px 1px 1px);\n",
              "  clip: rect(1px, 1px, 1px, 1px);\n",
              "  height: 1px;\n",
              "  margin: -1px;\n",
              "  overflow: hidden;\n",
              "  padding: 0;\n",
              "  position: absolute;\n",
              "  width: 1px;\n",
              "}\n",
              "\n",
              "#sk-container-id-2 div.sk-dashed-wrapped {\n",
              "  border: 1px dashed var(--sklearn-color-line);\n",
              "  margin: 0 0.4em 0.5em 0.4em;\n",
              "  box-sizing: border-box;\n",
              "  padding-bottom: 0.4em;\n",
              "  background-color: var(--sklearn-color-background);\n",
              "}\n",
              "\n",
              "#sk-container-id-2 div.sk-container {\n",
              "  /* jupyter's `normalize.less` sets `[hidden] { display: none; }`\n",
              "     but bootstrap.min.css set `[hidden] { display: none !important; }`\n",
              "     so we also need the `!important` here to be able to override the\n",
              "     default hidden behavior on the sphinx rendered scikit-learn.org.\n",
              "     See: https://github.com/scikit-learn/scikit-learn/issues/21755 */\n",
              "  display: inline-block !important;\n",
              "  position: relative;\n",
              "}\n",
              "\n",
              "#sk-container-id-2 div.sk-text-repr-fallback {\n",
              "  display: none;\n",
              "}\n",
              "\n",
              "div.sk-parallel-item,\n",
              "div.sk-serial,\n",
              "div.sk-item {\n",
              "  /* draw centered vertical line to link estimators */\n",
              "  background-image: linear-gradient(var(--sklearn-color-text-on-default-background), var(--sklearn-color-text-on-default-background));\n",
              "  background-size: 2px 100%;\n",
              "  background-repeat: no-repeat;\n",
              "  background-position: center center;\n",
              "}\n",
              "\n",
              "/* Parallel-specific style estimator block */\n",
              "\n",
              "#sk-container-id-2 div.sk-parallel-item::after {\n",
              "  content: \"\";\n",
              "  width: 100%;\n",
              "  border-bottom: 2px solid var(--sklearn-color-text-on-default-background);\n",
              "  flex-grow: 1;\n",
              "}\n",
              "\n",
              "#sk-container-id-2 div.sk-parallel {\n",
              "  display: flex;\n",
              "  align-items: stretch;\n",
              "  justify-content: center;\n",
              "  background-color: var(--sklearn-color-background);\n",
              "  position: relative;\n",
              "}\n",
              "\n",
              "#sk-container-id-2 div.sk-parallel-item {\n",
              "  display: flex;\n",
              "  flex-direction: column;\n",
              "}\n",
              "\n",
              "#sk-container-id-2 div.sk-parallel-item:first-child::after {\n",
              "  align-self: flex-end;\n",
              "  width: 50%;\n",
              "}\n",
              "\n",
              "#sk-container-id-2 div.sk-parallel-item:last-child::after {\n",
              "  align-self: flex-start;\n",
              "  width: 50%;\n",
              "}\n",
              "\n",
              "#sk-container-id-2 div.sk-parallel-item:only-child::after {\n",
              "  width: 0;\n",
              "}\n",
              "\n",
              "/* Serial-specific style estimator block */\n",
              "\n",
              "#sk-container-id-2 div.sk-serial {\n",
              "  display: flex;\n",
              "  flex-direction: column;\n",
              "  align-items: center;\n",
              "  background-color: var(--sklearn-color-background);\n",
              "  padding-right: 1em;\n",
              "  padding-left: 1em;\n",
              "}\n",
              "\n",
              "\n",
              "/* Toggleable style: style used for estimator/Pipeline/ColumnTransformer box that is\n",
              "clickable and can be expanded/collapsed.\n",
              "- Pipeline and ColumnTransformer use this feature and define the default style\n",
              "- Estimators will overwrite some part of the style using the `sk-estimator` class\n",
              "*/\n",
              "\n",
              "/* Pipeline and ColumnTransformer style (default) */\n",
              "\n",
              "#sk-container-id-2 div.sk-toggleable {\n",
              "  /* Default theme specific background. It is overwritten whether we have a\n",
              "  specific estimator or a Pipeline/ColumnTransformer */\n",
              "  background-color: var(--sklearn-color-background);\n",
              "}\n",
              "\n",
              "/* Toggleable label */\n",
              "#sk-container-id-2 label.sk-toggleable__label {\n",
              "  cursor: pointer;\n",
              "  display: flex;\n",
              "  width: 100%;\n",
              "  margin-bottom: 0;\n",
              "  padding: 0.5em;\n",
              "  box-sizing: border-box;\n",
              "  text-align: center;\n",
              "  align-items: start;\n",
              "  justify-content: space-between;\n",
              "  gap: 0.5em;\n",
              "}\n",
              "\n",
              "#sk-container-id-2 label.sk-toggleable__label .caption {\n",
              "  font-size: 0.6rem;\n",
              "  font-weight: lighter;\n",
              "  color: var(--sklearn-color-text-muted);\n",
              "}\n",
              "\n",
              "#sk-container-id-2 label.sk-toggleable__label-arrow:before {\n",
              "  /* Arrow on the left of the label */\n",
              "  content: \"▸\";\n",
              "  float: left;\n",
              "  margin-right: 0.25em;\n",
              "  color: var(--sklearn-color-icon);\n",
              "}\n",
              "\n",
              "#sk-container-id-2 label.sk-toggleable__label-arrow:hover:before {\n",
              "  color: var(--sklearn-color-text);\n",
              "}\n",
              "\n",
              "/* Toggleable content - dropdown */\n",
              "\n",
              "#sk-container-id-2 div.sk-toggleable__content {\n",
              "  max-height: 0;\n",
              "  max-width: 0;\n",
              "  overflow: hidden;\n",
              "  text-align: left;\n",
              "  /* unfitted */\n",
              "  background-color: var(--sklearn-color-unfitted-level-0);\n",
              "}\n",
              "\n",
              "#sk-container-id-2 div.sk-toggleable__content.fitted {\n",
              "  /* fitted */\n",
              "  background-color: var(--sklearn-color-fitted-level-0);\n",
              "}\n",
              "\n",
              "#sk-container-id-2 div.sk-toggleable__content pre {\n",
              "  margin: 0.2em;\n",
              "  border-radius: 0.25em;\n",
              "  color: var(--sklearn-color-text);\n",
              "  /* unfitted */\n",
              "  background-color: var(--sklearn-color-unfitted-level-0);\n",
              "}\n",
              "\n",
              "#sk-container-id-2 div.sk-toggleable__content.fitted pre {\n",
              "  /* unfitted */\n",
              "  background-color: var(--sklearn-color-fitted-level-0);\n",
              "}\n",
              "\n",
              "#sk-container-id-2 input.sk-toggleable__control:checked~div.sk-toggleable__content {\n",
              "  /* Expand drop-down */\n",
              "  max-height: 200px;\n",
              "  max-width: 100%;\n",
              "  overflow: auto;\n",
              "}\n",
              "\n",
              "#sk-container-id-2 input.sk-toggleable__control:checked~label.sk-toggleable__label-arrow:before {\n",
              "  content: \"▾\";\n",
              "}\n",
              "\n",
              "/* Pipeline/ColumnTransformer-specific style */\n",
              "\n",
              "#sk-container-id-2 div.sk-label input.sk-toggleable__control:checked~label.sk-toggleable__label {\n",
              "  color: var(--sklearn-color-text);\n",
              "  background-color: var(--sklearn-color-unfitted-level-2);\n",
              "}\n",
              "\n",
              "#sk-container-id-2 div.sk-label.fitted input.sk-toggleable__control:checked~label.sk-toggleable__label {\n",
              "  background-color: var(--sklearn-color-fitted-level-2);\n",
              "}\n",
              "\n",
              "/* Estimator-specific style */\n",
              "\n",
              "/* Colorize estimator box */\n",
              "#sk-container-id-2 div.sk-estimator input.sk-toggleable__control:checked~label.sk-toggleable__label {\n",
              "  /* unfitted */\n",
              "  background-color: var(--sklearn-color-unfitted-level-2);\n",
              "}\n",
              "\n",
              "#sk-container-id-2 div.sk-estimator.fitted input.sk-toggleable__control:checked~label.sk-toggleable__label {\n",
              "  /* fitted */\n",
              "  background-color: var(--sklearn-color-fitted-level-2);\n",
              "}\n",
              "\n",
              "#sk-container-id-2 div.sk-label label.sk-toggleable__label,\n",
              "#sk-container-id-2 div.sk-label label {\n",
              "  /* The background is the default theme color */\n",
              "  color: var(--sklearn-color-text-on-default-background);\n",
              "}\n",
              "\n",
              "/* On hover, darken the color of the background */\n",
              "#sk-container-id-2 div.sk-label:hover label.sk-toggleable__label {\n",
              "  color: var(--sklearn-color-text);\n",
              "  background-color: var(--sklearn-color-unfitted-level-2);\n",
              "}\n",
              "\n",
              "/* Label box, darken color on hover, fitted */\n",
              "#sk-container-id-2 div.sk-label.fitted:hover label.sk-toggleable__label.fitted {\n",
              "  color: var(--sklearn-color-text);\n",
              "  background-color: var(--sklearn-color-fitted-level-2);\n",
              "}\n",
              "\n",
              "/* Estimator label */\n",
              "\n",
              "#sk-container-id-2 div.sk-label label {\n",
              "  font-family: monospace;\n",
              "  font-weight: bold;\n",
              "  display: inline-block;\n",
              "  line-height: 1.2em;\n",
              "}\n",
              "\n",
              "#sk-container-id-2 div.sk-label-container {\n",
              "  text-align: center;\n",
              "}\n",
              "\n",
              "/* Estimator-specific */\n",
              "#sk-container-id-2 div.sk-estimator {\n",
              "  font-family: monospace;\n",
              "  border: 1px dotted var(--sklearn-color-border-box);\n",
              "  border-radius: 0.25em;\n",
              "  box-sizing: border-box;\n",
              "  margin-bottom: 0.5em;\n",
              "  /* unfitted */\n",
              "  background-color: var(--sklearn-color-unfitted-level-0);\n",
              "}\n",
              "\n",
              "#sk-container-id-2 div.sk-estimator.fitted {\n",
              "  /* fitted */\n",
              "  background-color: var(--sklearn-color-fitted-level-0);\n",
              "}\n",
              "\n",
              "/* on hover */\n",
              "#sk-container-id-2 div.sk-estimator:hover {\n",
              "  /* unfitted */\n",
              "  background-color: var(--sklearn-color-unfitted-level-2);\n",
              "}\n",
              "\n",
              "#sk-container-id-2 div.sk-estimator.fitted:hover {\n",
              "  /* fitted */\n",
              "  background-color: var(--sklearn-color-fitted-level-2);\n",
              "}\n",
              "\n",
              "/* Specification for estimator info (e.g. \"i\" and \"?\") */\n",
              "\n",
              "/* Common style for \"i\" and \"?\" */\n",
              "\n",
              ".sk-estimator-doc-link,\n",
              "a:link.sk-estimator-doc-link,\n",
              "a:visited.sk-estimator-doc-link {\n",
              "  float: right;\n",
              "  font-size: smaller;\n",
              "  line-height: 1em;\n",
              "  font-family: monospace;\n",
              "  background-color: var(--sklearn-color-background);\n",
              "  border-radius: 1em;\n",
              "  height: 1em;\n",
              "  width: 1em;\n",
              "  text-decoration: none !important;\n",
              "  margin-left: 0.5em;\n",
              "  text-align: center;\n",
              "  /* unfitted */\n",
              "  border: var(--sklearn-color-unfitted-level-1) 1pt solid;\n",
              "  color: var(--sklearn-color-unfitted-level-1);\n",
              "}\n",
              "\n",
              ".sk-estimator-doc-link.fitted,\n",
              "a:link.sk-estimator-doc-link.fitted,\n",
              "a:visited.sk-estimator-doc-link.fitted {\n",
              "  /* fitted */\n",
              "  border: var(--sklearn-color-fitted-level-1) 1pt solid;\n",
              "  color: var(--sklearn-color-fitted-level-1);\n",
              "}\n",
              "\n",
              "/* On hover */\n",
              "div.sk-estimator:hover .sk-estimator-doc-link:hover,\n",
              ".sk-estimator-doc-link:hover,\n",
              "div.sk-label-container:hover .sk-estimator-doc-link:hover,\n",
              ".sk-estimator-doc-link:hover {\n",
              "  /* unfitted */\n",
              "  background-color: var(--sklearn-color-unfitted-level-3);\n",
              "  color: var(--sklearn-color-background);\n",
              "  text-decoration: none;\n",
              "}\n",
              "\n",
              "div.sk-estimator.fitted:hover .sk-estimator-doc-link.fitted:hover,\n",
              ".sk-estimator-doc-link.fitted:hover,\n",
              "div.sk-label-container:hover .sk-estimator-doc-link.fitted:hover,\n",
              ".sk-estimator-doc-link.fitted:hover {\n",
              "  /* fitted */\n",
              "  background-color: var(--sklearn-color-fitted-level-3);\n",
              "  color: var(--sklearn-color-background);\n",
              "  text-decoration: none;\n",
              "}\n",
              "\n",
              "/* Span, style for the box shown on hovering the info icon */\n",
              ".sk-estimator-doc-link span {\n",
              "  display: none;\n",
              "  z-index: 9999;\n",
              "  position: relative;\n",
              "  font-weight: normal;\n",
              "  right: .2ex;\n",
              "  padding: .5ex;\n",
              "  margin: .5ex;\n",
              "  width: min-content;\n",
              "  min-width: 20ex;\n",
              "  max-width: 50ex;\n",
              "  color: var(--sklearn-color-text);\n",
              "  box-shadow: 2pt 2pt 4pt #999;\n",
              "  /* unfitted */\n",
              "  background: var(--sklearn-color-unfitted-level-0);\n",
              "  border: .5pt solid var(--sklearn-color-unfitted-level-3);\n",
              "}\n",
              "\n",
              ".sk-estimator-doc-link.fitted span {\n",
              "  /* fitted */\n",
              "  background: var(--sklearn-color-fitted-level-0);\n",
              "  border: var(--sklearn-color-fitted-level-3);\n",
              "}\n",
              "\n",
              ".sk-estimator-doc-link:hover span {\n",
              "  display: block;\n",
              "}\n",
              "\n",
              "/* \"?\"-specific style due to the `<a>` HTML tag */\n",
              "\n",
              "#sk-container-id-2 a.estimator_doc_link {\n",
              "  float: right;\n",
              "  font-size: 1rem;\n",
              "  line-height: 1em;\n",
              "  font-family: monospace;\n",
              "  background-color: var(--sklearn-color-background);\n",
              "  border-radius: 1rem;\n",
              "  height: 1rem;\n",
              "  width: 1rem;\n",
              "  text-decoration: none;\n",
              "  /* unfitted */\n",
              "  color: var(--sklearn-color-unfitted-level-1);\n",
              "  border: var(--sklearn-color-unfitted-level-1) 1pt solid;\n",
              "}\n",
              "\n",
              "#sk-container-id-2 a.estimator_doc_link.fitted {\n",
              "  /* fitted */\n",
              "  border: var(--sklearn-color-fitted-level-1) 1pt solid;\n",
              "  color: var(--sklearn-color-fitted-level-1);\n",
              "}\n",
              "\n",
              "/* On hover */\n",
              "#sk-container-id-2 a.estimator_doc_link:hover {\n",
              "  /* unfitted */\n",
              "  background-color: var(--sklearn-color-unfitted-level-3);\n",
              "  color: var(--sklearn-color-background);\n",
              "  text-decoration: none;\n",
              "}\n",
              "\n",
              "#sk-container-id-2 a.estimator_doc_link.fitted:hover {\n",
              "  /* fitted */\n",
              "  background-color: var(--sklearn-color-fitted-level-3);\n",
              "}\n",
              "</style><div id=\"sk-container-id-2\" class=\"sk-top-container\"><div class=\"sk-text-repr-fallback\"><pre>LogisticRegression(solver=&#x27;saga&#x27;)</pre><b>In a Jupyter environment, please rerun this cell to show the HTML representation or trust the notebook. <br />On GitHub, the HTML representation is unable to render, please try loading this page with nbviewer.org.</b></div><div class=\"sk-container\" hidden><div class=\"sk-item\"><div class=\"sk-estimator fitted sk-toggleable\"><input class=\"sk-toggleable__control sk-hidden--visually\" id=\"sk-estimator-id-2\" type=\"checkbox\" checked><label for=\"sk-estimator-id-2\" class=\"sk-toggleable__label fitted sk-toggleable__label-arrow\"><div><div>LogisticRegression</div></div><div><a class=\"sk-estimator-doc-link fitted\" rel=\"noreferrer\" target=\"_blank\" href=\"https://scikit-learn.org/1.6/modules/generated/sklearn.linear_model.LogisticRegression.html\">?<span>Documentation for LogisticRegression</span></a><span class=\"sk-estimator-doc-link fitted\">i<span>Fitted</span></span></div></label><div class=\"sk-toggleable__content fitted\"><pre>LogisticRegression(solver=&#x27;saga&#x27;)</pre></div> </div></div></div></div>"
            ]
          },
          "metadata": {},
          "execution_count": 72
        }
      ],
      "source": [
        "model = LogisticRegression(solver='saga')\n",
        "model.fit(x_train_cv, y_train)"
      ]
    },
    {
      "cell_type": "code",
      "execution_count": 73,
      "metadata": {
        "execution": {},
        "id": "KhAkXDEJ408v",
        "outputId": "c303a567-664c-4262-931a-6d4d8de6d6a2",
        "colab": {
          "base_uri": "https://localhost:8080/"
        }
      },
      "outputs": [
        {
          "output_type": "stream",
          "name": "stdout",
          "text": [
            "              precision    recall  f1-score   support\n",
            "\n",
            "           0       0.81      0.79      0.80    160000\n",
            "           1       0.79      0.81      0.80    160000\n",
            "\n",
            "    accuracy                           0.80    320000\n",
            "   macro avg       0.80      0.80      0.80    320000\n",
            "weighted avg       0.80      0.80      0.80    320000\n",
            "\n"
          ]
        }
      ],
      "source": [
        "y_pred = model.predict(x_test_cv)\n",
        "\n",
        "print(classification_report(y_test, y_pred))"
      ]
    },
    {
      "cell_type": "markdown",
      "metadata": {
        "execution": {},
        "id": "keSuaKMv408v"
      },
      "source": [
        "## Explainable AI\n",
        "The best thing about logistic regresion is that it is simple, and we can get some explanations."
      ]
    },
    {
      "cell_type": "code",
      "execution_count": 74,
      "metadata": {
        "colab": {
          "base_uri": "https://localhost:8080/"
        },
        "execution": {},
        "id": "GY8LjJaJ408v",
        "outputId": "31693f2d-84f9-467b-cd61-0f2c7199b673"
      },
      "outputs": [
        {
          "output_type": "stream",
          "name": "stdout",
          "text": [
            "(1, 589260)\n",
            "589260\n"
          ]
        }
      ],
      "source": [
        "print(model.coef_.shape)\n",
        "print(len(vectorizer.vocabulary_))\n",
        "\n",
        "words_sk = list(vectorizer.vocabulary_.keys())\n",
        "words_sk.sort(key=lambda w: model.coef_[0, vectorizer.vocabulary_[w]])"
      ]
    },
    {
      "cell_type": "code",
      "execution_count": 75,
      "metadata": {
        "execution": {},
        "id": "JDNHVH9g408v",
        "outputId": "9170d031-f1d4-4ad6-9142-c78d26ec4429",
        "colab": {
          "base_uri": "https://localhost:8080/"
        }
      },
      "outputs": [
        {
          "output_type": "stream",
          "name": "stdout",
          "text": [
            "roni: -3.8625729423108437\n",
            "inaperfectworld: -3.573436535149933\n",
            "dontyouhate: -3.50018864575806\n",
            "xbllygbsn: -3.4126444169876438\n",
            "anqju: -3.33639190943554\n",
            "sad: -3.2005178899429714\n",
            "pakcricket: -3.1949514941475265\n",
            "condolences: -3.1325477715388463\n",
            "heartbreaking: -3.066488097843163\n",
            "saddest: -3.04202643710585\n",
            "sadd: -3.0290349655468876\n",
            "heartbroken: -3.0287528279309472\n",
            "boohoo: -3.022618736852839\n",
            "sadface: -2.991860990999021\n",
            "rachelle_lefevr: -2.925044332630044\n",
            "disappointing: -2.902520133727237\n",
            "lvbu: -2.894710870236732\n",
            "saddens: -2.885528324770195\n",
            "bummed: -2.8364981435645125\n",
            "neda: -2.7929433619837467\n"
          ]
        }
      ],
      "source": [
        "for w in words_sk[:20]:\n",
        "  print('{}: {}'.format(w, model.coef_[0, vectorizer.vocabulary_[w]]))"
      ]
    },
    {
      "cell_type": "code",
      "execution_count": 76,
      "metadata": {
        "execution": {},
        "id": "UanNtS7q408v",
        "outputId": "fd2f6074-5144-4a42-87e0-2031030262d8",
        "colab": {
          "base_uri": "https://localhost:8080/"
        }
      },
      "outputs": [
        {
          "output_type": "stream",
          "name": "stdout",
          "text": [
            "iamsoannoyed: 2.8493948923058436\n",
            "myfax: 2.797439552983078\n",
            "jennamadison: 2.566723416915995\n",
            "yeyy: 2.478033441694672\n",
            "tryout: 2.4383289027354444\n",
            "goldymom: 2.4373983508455046\n",
            "wooohooo: 2.4029658440715362\n",
            "thesupergirl: 2.356535145844401\n",
            "iammaxathotspot: 2.3116504871129524\n",
            "londicreations: 2.3074490448672305\n",
            "smilin: 2.299187828028732\n",
            "worries: 2.289943832812244\n",
            "sinfulsignorita: 2.2798940404205106\n",
            "finchensnail: 2.264307480916936\n",
            "smackthis: 2.2376681054206737\n",
            "kv: 2.215880743716363\n",
            "tojosan: 2.211782439458094\n",
            "russmarshalek: 2.2094749498194886\n",
            "traciknoppe: 2.1768278036295006\n",
            "congratulations: 2.1715881819573886\n"
          ]
        }
      ],
      "source": [
        "for w in reversed(words_sk[-20:]):\n",
        "  print('{}: {}'.format(w, model.coef_[0, vectorizer.vocabulary_[w]]))"
      ]
    },
    {
      "cell_type": "markdown",
      "metadata": {
        "execution": {},
        "id": "d-g4miJW408v"
      },
      "source": [
        "What does this mean?\n",
        "\n",
        "Remember the `model.coef_` is the $W$ in:\n",
        "\n",
        "$$h(x)=\\sigma(WX + b)$$\n",
        "\n",
        "where the label 1 is a positive tweet and the label 0 is a negative tweet."
      ]
    },
    {
      "cell_type": "markdown",
      "metadata": {
        "execution": {},
        "id": "cxMODNPN408v"
      },
      "source": [
        "## Recurrent Neural Network with Pytorch"
      ]
    },
    {
      "cell_type": "markdown",
      "metadata": {
        "execution": {},
        "id": "lqaLmnjb408v"
      },
      "source": [
        "In the previous section we use a Bag-Of-Words approach to represent each of the tweets. That meas that we only consider how many times each of the words appear in each of the tweets, we didnt take into account the order of the words. But we know that the word order is very important and carries relevant information.\n",
        "\n",
        "In this section we will solve the same task, but this time we will implement a Recurrent Neural Network (RNN) instead of using a simple Logistic Regression.Unlike feedforward neural networks, RNNs have cyclic connections making them powerful for modeling sequences.\n",
        "\n",
        "Let's start by importing the relevant libraries.\n"
      ]
    },
    {
      "cell_type": "code",
      "execution_count": 77,
      "metadata": {
        "execution": {},
        "id": "rqVeHAlu408z"
      },
      "outputs": [],
      "source": [
        "def set_device():\n",
        "  device = \"cuda\" if torch.cuda.is_available() else \"cpu\"\n",
        "  if device != \"cuda\":\n",
        "    print(\"WARNING: For this notebook to perform best, \"\n",
        "          \"if possible, in the menu under `Runtime` -> \"\n",
        "          \"`Change runtime type.`  select `GPU` \")\n",
        "  else:\n",
        "    print(\"GPU is enabled in this notebook.\")\n",
        "\n",
        "  return device"
      ]
    },
    {
      "cell_type": "code",
      "execution_count": 78,
      "metadata": {
        "colab": {
          "base_uri": "https://localhost:8080/"
        },
        "execution": {},
        "id": "6mdfR6a3408z",
        "outputId": "e99c0b72-6aa3-4bee-c854-fe3faffbf69e"
      },
      "outputs": [
        {
          "output_type": "stream",
          "name": "stdout",
          "text": [
            "GPU is enabled in this notebook.\n"
          ]
        }
      ],
      "source": [
        "# Set the device (check if gpu is available)\n",
        "device = set_device()"
      ]
    },
    {
      "cell_type": "markdown",
      "metadata": {
        "execution": {},
        "id": "7LU3_tZo408z"
      },
      "source": [
        "First we will create a Dictionary (`word_to_idx`). This dictionary will map each Token (usually words) to an index (an integer number). We want to limit our dictionary to a certain number of tokens (`num_words_dict`), so we will include in our ditionary those with more occurrences."
      ]
    },
    {
      "cell_type": "code",
      "execution_count": 79,
      "metadata": {
        "colab": {
          "base_uri": "https://localhost:8080/"
        },
        "execution": {},
        "id": "HKDsaOoU408z",
        "outputId": "353e54d2-0592-47bd-d68d-b8254f25bb8d"
      },
      "outputs": [
        {
          "output_type": "execute_result",
          "data": {
            "text/plain": [
              "['.', 'i', '!', \"'\", 'to', 'the', ',', 'a', 'my', 'it']"
            ]
          },
          "metadata": {},
          "execution_count": 79
        }
      ],
      "source": [
        "# From previous section, we have a list with the most used tokens\n",
        "sorted_words[:10]"
      ]
    },
    {
      "cell_type": "markdown",
      "metadata": {
        "execution": {},
        "id": "1ItKjYCp408z"
      },
      "source": [
        "Let's select only the most used."
      ]
    },
    {
      "cell_type": "code",
      "execution_count": 80,
      "metadata": {
        "execution": {},
        "id": "d7URiEwr408z"
      },
      "outputs": [],
      "source": [
        "num_words_dict = 30000\n",
        "# We reserve two numbers for special tokens.\n",
        "most_used_words = sorted_words[:num_words_dict-2]"
      ]
    },
    {
      "cell_type": "markdown",
      "metadata": {
        "execution": {},
        "id": "o9jdSyxu408z"
      },
      "source": [
        "We will add two extra Tokens to the dictionary, one for words outside the dictionary (`'UNK'`) and one for padding the sequences (`'PAD'`)."
      ]
    },
    {
      "cell_type": "code",
      "execution_count": 81,
      "metadata": {
        "execution": {},
        "id": "3SakCPn8408z"
      },
      "outputs": [],
      "source": [
        "# dictionary to go from words to idx\n",
        "word_to_idx = {}\n",
        "# dictionary to go from idx to words (just in case)\n",
        "idx_to_word = {}\n",
        "\n",
        "\n",
        "# We include the special tokens first\n",
        "PAD_token = 0\n",
        "UNK_token = 1\n",
        "\n",
        "word_to_idx['PAD'] = PAD_token\n",
        "word_to_idx['UNK'] = UNK_token\n",
        "\n",
        "idx_to_word[PAD_token] = 'PAD'\n",
        "idx_to_word[UNK_token] = 'UNK'\n",
        "\n",
        "# We popullate our dictionaries with the most used words\n",
        "for num,word in enumerate(most_used_words):\n",
        "  word_to_idx[word] = num + 2\n",
        "  idx_to_word[num+2] = word"
      ]
    },
    {
      "cell_type": "markdown",
      "metadata": {
        "execution": {},
        "id": "uoLsHW2g408z"
      },
      "source": [
        "Our goal now is to transform each tweet from a sequence of tokens to a sequence of indexes. These sequences of indexes will be the input to our pytorch model."
      ]
    },
    {
      "cell_type": "code",
      "execution_count": 82,
      "metadata": {
        "execution": {},
        "id": "cSHbZHMZ408z"
      },
      "outputs": [],
      "source": [
        "# A function to convert list of tokens to list of indexes\n",
        "def tokens_to_idx(sentences_tokens,word_to_idx):\n",
        "  sentences_idx = []\n",
        "  for sent in sentences_tokens:\n",
        "    sent_idx = []\n",
        "    for word in sent:\n",
        "      if word in word_to_idx:\n",
        "        sent_idx.append(word_to_idx[word])\n",
        "      else:\n",
        "        sent_idx.append(word_to_idx['UNK'])\n",
        "    sentences_idx.append(sent_idx)\n",
        "  return sentences_idx"
      ]
    },
    {
      "cell_type": "code",
      "execution_count": 83,
      "metadata": {
        "execution": {},
        "id": "PgQ0lD0f408z"
      },
      "outputs": [],
      "source": [
        "x_train_idx = tokens_to_idx(x_train_token,word_to_idx)\n",
        "x_test_idx = tokens_to_idx(x_test_token,word_to_idx)"
      ]
    },
    {
      "cell_type": "code",
      "execution_count": 84,
      "metadata": {
        "colab": {
          "base_uri": "https://localhost:8080/"
        },
        "execution": {},
        "id": "BE6AZVWN408z",
        "outputId": "6a419fb2-3fb1-4ce5-f961-708cd149cf21"
      },
      "outputs": [
        {
          "output_type": "stream",
          "name": "stdout",
          "text": [
            "Before converting:  ['worst', 'headache', 'ever']\n",
            "After converting:  [721, 458, 237]\n"
          ]
        }
      ],
      "source": [
        "some_number = 1\n",
        "print('Before converting: ', x_train_token[some_number])\n",
        "print('After converting: ', x_train_idx[some_number])"
      ]
    },
    {
      "cell_type": "markdown",
      "metadata": {
        "execution": {},
        "id": "2ZV4a3uw408z"
      },
      "source": [
        "We need all the sequences to have the same length. To select an adequate sequence length, let's explore some statistics about the length of the tweets:"
      ]
    },
    {
      "cell_type": "code",
      "execution_count": 85,
      "metadata": {
        "colab": {
          "base_uri": "https://localhost:8080/"
        },
        "execution": {},
        "id": "94mQMk2C408z",
        "outputId": "a074c65a-a92e-4ff0-ed50-26501f7d32a9"
      },
      "outputs": [
        {
          "output_type": "stream",
          "name": "stdout",
          "text": [
            "Max tweet word length:  229\n",
            "Mean tweet word length:  15.0\n",
            "99% percent under:  37.0\n"
          ]
        }
      ],
      "source": [
        "tweet_lens = np.asarray([len(sentence) for sentence in x_train_idx])\n",
        "print('Max tweet word length: ',tweet_lens.max())\n",
        "print('Mean tweet word length: ',np.median(tweet_lens))\n",
        "print('99% percent under: ',np.quantile(tweet_lens,0.99))"
      ]
    },
    {
      "cell_type": "markdown",
      "metadata": {
        "execution": {},
        "id": "ySrrdken408z"
      },
      "source": [
        "We cut the sequences which are larger than our chosen maximum length (`max_lenght`) and fill with zeros the ones that are shorter."
      ]
    },
    {
      "cell_type": "code",
      "execution_count": 86,
      "metadata": {
        "execution": {},
        "id": "U_PD3tBJ408z"
      },
      "outputs": [],
      "source": [
        " # We choose the max length\n",
        " max_length = 40\n",
        "\n",
        "# A function to make all the sequence have the same lenght\n",
        "# Note that the output is a Numpy matrix\n",
        " def padding(sentences, seq_len):\n",
        "  features = np.zeros((len(sentences), seq_len),dtype=int)\n",
        "  for ii, tweet in enumerate(sentences):\n",
        "    len_tweet = len(tweet)\n",
        "    if len_tweet != 0:\n",
        "      if len_tweet <= seq_len:\n",
        "        # If its shorter, we fill with zeros (the padding Token index)\n",
        "        features[ii, -len(tweet):] = np.array(tweet)[:seq_len]\n",
        "      if len_tweet > seq_len:\n",
        "        # If its larger, we take the last 'seq_len' indexes\n",
        "        features[ii, :] = np.array(tweet)[-seq_len:]\n",
        "  return features"
      ]
    },
    {
      "cell_type": "code",
      "execution_count": 87,
      "metadata": {
        "execution": {},
        "id": "jR1LYNvM4080"
      },
      "outputs": [],
      "source": [
        "# We convert our list of tokens into a numpy matrix\n",
        "# where all instances have the same lenght\n",
        "x_train_pad = padding(x_train_idx,max_length)\n",
        "x_test_pad = padding(x_test_idx,max_length)\n",
        "\n",
        "# We convert our target list a numpy matrix\n",
        "y_train_np = np.asarray(y_train)\n",
        "y_test_np = np.asarray(y_test)"
      ]
    },
    {
      "cell_type": "code",
      "execution_count": 88,
      "metadata": {
        "colab": {
          "base_uri": "https://localhost:8080/"
        },
        "execution": {},
        "id": "EAKgEp6U4080",
        "outputId": "3f613628-d347-4ece-fbf1-bc58d1ec2c21"
      },
      "outputs": [
        {
          "output_type": "stream",
          "name": "stdout",
          "text": [
            "Before padding:  [1, 3, 71, 24, 122, 3, 533, 74, 13, 4, 3, 102, 13, 209, 2, 12, 150, 4, 22, 5, 18, 667, 3, 138, 61, 7, 3296, 4]\n",
            "After padding:  [   0    0    0    0    0    0    0    0    0    0    0    0    1    3\n",
            "   71   24  122    3  533   74   13    4    3  102   13  209    2   12\n",
            "  150    4   22    5   18  667    3  138   61    7 3296    4]\n"
          ]
        }
      ],
      "source": [
        "some_number = 2\n",
        "print('Before padding: ', x_train_idx[some_number])\n",
        "print('After padding: ', x_train_pad[some_number])"
      ]
    },
    {
      "cell_type": "markdown",
      "metadata": {
        "execution": {},
        "id": "RxLVTTuD4080"
      },
      "source": [
        "Now, let's convert the data to pytorch format.\n"
      ]
    },
    {
      "cell_type": "code",
      "execution_count": 89,
      "metadata": {
        "execution": {},
        "id": "-iFm4k1r4080"
      },
      "outputs": [],
      "source": [
        "# create Tensor datasets\n",
        "train_data = TensorDataset(torch.from_numpy(x_train_pad), torch.from_numpy(y_train_np))\n",
        "valid_data = TensorDataset(torch.from_numpy(x_test_pad), torch.from_numpy(y_test_np))\n",
        "\n",
        "# Batch size (this is an important hyperparameter)\n",
        "batch_size = 100\n",
        "\n",
        "# dataloaders\n",
        "# make sure to SHUFFLE your data\n",
        "train_loader = DataLoader(train_data, shuffle=True, batch_size=batch_size,drop_last = True)\n",
        "valid_loader = DataLoader(valid_data, shuffle=True, batch_size=batch_size,drop_last = True)"
      ]
    },
    {
      "cell_type": "markdown",
      "metadata": {
        "execution": {},
        "id": "MyisVzvs4080"
      },
      "source": [
        "Each batch of data in our traning proccess will have the folllowing format:"
      ]
    },
    {
      "cell_type": "code",
      "execution_count": 90,
      "metadata": {
        "colab": {
          "base_uri": "https://localhost:8080/"
        },
        "execution": {},
        "id": "6KV6HSxb4080",
        "outputId": "faef0ee9-4517-44db-e7ac-0887a91bb21d"
      },
      "outputs": [
        {
          "output_type": "stream",
          "name": "stdout",
          "text": [
            "Sample input size:  torch.Size([100, 40])\n",
            "Sample input: \n",
            " tensor([[  0,   0,   0,  ...,   5,  18,   2],\n",
            "        [  0,   0,   0,  ...,   3, 169,   2],\n",
            "        [  0,   0,   0,  ...,  11, 871,   2],\n",
            "        ...,\n",
            "        [  0,   0,   0,  ...,   2,   2,   2],\n",
            "        [  0,   0,   0,  ..., 999,  38,   4],\n",
            "        [  0,   0,   0,  ...,  11,  51,   2]])\n",
            "Sample input: \n",
            " tensor([1, 0, 1, 1, 0, 0, 0, 1, 0, 0, 0, 0, 0, 1, 0, 0, 1, 1, 0, 0, 1, 1, 1, 0,\n",
            "        1, 1, 0, 0, 0, 1, 1, 1, 1, 0, 0, 0, 1, 1, 1, 0, 0, 1, 1, 1, 0, 1, 0, 0,\n",
            "        1, 1, 1, 0, 0, 0, 0, 1, 1, 1, 1, 1, 0, 0, 0, 1, 1, 1, 1, 1, 0, 0, 1, 0,\n",
            "        1, 1, 0, 1, 0, 1, 1, 1, 0, 1, 0, 0, 0, 1, 0, 0, 0, 1, 0, 1, 0, 0, 0, 0,\n",
            "        0, 1, 1, 0])\n"
          ]
        }
      ],
      "source": [
        "# Obtain one batch of training data\n",
        "dataiter = iter(train_loader)\n",
        "sample_x, sample_y = dataiter.__next__()\n",
        "\n",
        "print('Sample input size: ', sample_x.size()) # batch_size, seq_length\n",
        "print('Sample input: \\n', sample_x)\n",
        "print('Sample input: \\n', sample_y)"
      ]
    },
    {
      "cell_type": "markdown",
      "metadata": {
        "execution": {},
        "id": "FNe-wfEx4080"
      },
      "source": [
        "Now, we will define the `SentimentRNN` class. Most of the model's class will be familiar to you, but there are two important layers we would like you to pay attention to:\n",
        "\n",
        "*   Embedding Layer\n",
        "> This layer is like a linear layer, but it makes it posible to use a sequence of inedexes as inputs (instead of a sequence of one-hot-encoded vectors). During training, the Embedding layer learns a linear transformation from the space of words (a vector space of dimension `num_words_dict`) into the a new, smaller, vector space of dimension `embedding_dim`. We suggest you to read this [thread](https://discuss.pytorch.org/t/how-does-nn-embedding-work/88518/3) and the [pytorch documentation](https://pytorch.org/docs/stable/generated/torch.nn.Embedding.html) if you want to learn more about this particular kind of layers.\n",
        "\n",
        "\n",
        "*   LSTM layer\n",
        "> This is one of the most used class of Recurrent Neural Networks. In Pytorch we can add several stacked layers in just one line of code. In our case, the number of layers added are decided with the parameter `no_layers`. If you want to learn more about LSTMs we strongly recommend you this [Colahs thread](https://colah.github.io/posts/2015-08-Understanding-LSTMs/) about them.\n",
        "\n",
        "\n",
        "\n",
        "\n",
        "\n"
      ]
    },
    {
      "cell_type": "code",
      "execution_count": 91,
      "metadata": {
        "execution": {},
        "id": "hxvLsf-I4080"
      },
      "outputs": [],
      "source": [
        "class SentimentRNN(nn.Module):\n",
        "  def __init__(self,no_layers,vocab_size,hidden_dim,embedding_dim,drop_prob=0.1):\n",
        "    super(SentimentRNN,self).__init__()\n",
        "\n",
        "    self.output_dim = output_dim\n",
        "    self.hidden_dim = hidden_dim\n",
        "    self.no_layers = no_layers\n",
        "    self.vocab_size = vocab_size\n",
        "    self.drop_prob = drop_prob\n",
        "\n",
        "    # Embedding Layer\n",
        "    self.embedding = nn.Embedding(vocab_size, embedding_dim)\n",
        "\n",
        "    # LSTM Layers\n",
        "    self.lstm = nn.LSTM(input_size=embedding_dim,hidden_size=self.hidden_dim,\n",
        "                        num_layers=no_layers, batch_first=True,\n",
        "                        dropout=self.drop_prob)\n",
        "\n",
        "    # Dropout layer\n",
        "    self.dropout = nn.Dropout(drop_prob)\n",
        "\n",
        "    # Linear and Sigmoid layer\n",
        "    self.fc = nn.Linear(self.hidden_dim, output_dim)\n",
        "    self.sig = nn.Sigmoid()\n",
        "\n",
        "  def forward(self,x,hidden):\n",
        "    batch_size = x.size(0)\n",
        "\n",
        "    # Embedding out\n",
        "    embeds = self.embedding(x)\n",
        "    #Shape: [batch_size x max_length x embedding_dim]\n",
        "\n",
        "    # LSTM out\n",
        "    lstm_out, hidden = self.lstm(embeds, hidden)\n",
        "    # Shape: [batch_size x max_length x hidden_dim]\n",
        "\n",
        "    # Select the activation of the last Hidden Layer\n",
        "    lstm_out = lstm_out[:,-1,:].contiguous()\n",
        "    # Shape: [batch_size x hidden_dim]\n",
        "\n",
        "    ## You can instead average the activations across all the times\n",
        "    # lstm_out = torch.mean(lstm_out, 1).contiguous()\n",
        "\n",
        "    # Dropout and Fully connected layer\n",
        "    out = self.dropout(lstm_out)\n",
        "    out = self.fc(out)\n",
        "\n",
        "    # Sigmoid function\n",
        "    sig_out = self.sig(out)\n",
        "\n",
        "    # return last sigmoid output and hidden state\n",
        "    return sig_out, hidden\n",
        "\n",
        "  def init_hidden(self, batch_size):\n",
        "    ''' Initializes hidden state '''\n",
        "    # Create two new tensors with sizes n_layers x batch_size x hidden_dim,\n",
        "    # initialized to zero, for hidden state and cell state of LSTM\n",
        "    h0 = torch.zeros((self.no_layers,batch_size,self.hidden_dim)).to(device)\n",
        "    c0 = torch.zeros((self.no_layers,batch_size,self.hidden_dim)).to(device)\n",
        "    hidden = (h0,c0)\n",
        "    return hidden"
      ]
    },
    {
      "cell_type": "markdown",
      "metadata": {
        "execution": {},
        "id": "iQnhr3ZL4080"
      },
      "source": [
        "We choose the parameters of the model."
      ]
    },
    {
      "cell_type": "code",
      "execution_count": 92,
      "metadata": {
        "execution": {},
        "id": "iLjNh5604080"
      },
      "outputs": [],
      "source": [
        "# Parameters of our network\n",
        "\n",
        "# Size of our vocabulary\n",
        "vocab_size = num_words_dict\n",
        "\n",
        "# Embedding dimension\n",
        "embedding_dim = 32\n",
        "\n",
        "# Number of stacked LSTM layers\n",
        "no_layers = 2\n",
        "\n",
        "# Dimension of the hidden layer in LSTMs\n",
        "hidden_dim = 64\n",
        "\n",
        "# Dropout parameter for regularization\n",
        "output_dim = 1\n",
        "\n",
        "# Dropout parameter for regularization\n",
        "drop_prob = 0.25"
      ]
    },
    {
      "cell_type": "code",
      "execution_count": 93,
      "metadata": {
        "colab": {
          "base_uri": "https://localhost:8080/"
        },
        "execution": {},
        "id": "JDyBRN744080",
        "outputId": "0fb0090b-28cf-4d40-b305-b5725682f994"
      },
      "outputs": [
        {
          "output_type": "stream",
          "name": "stdout",
          "text": [
            "SentimentRNN(\n",
            "  (embedding): Embedding(30000, 32)\n",
            "  (lstm): LSTM(32, 64, num_layers=2, batch_first=True, dropout=0.25)\n",
            "  (dropout): Dropout(p=0.25, inplace=False)\n",
            "  (fc): Linear(in_features=64, out_features=1, bias=True)\n",
            "  (sig): Sigmoid()\n",
            ")\n"
          ]
        }
      ],
      "source": [
        "# Let's define our model\n",
        "model = SentimentRNN(no_layers, vocab_size, hidden_dim,\n",
        "                     embedding_dim, drop_prob=drop_prob)\n",
        "# Moving to gpu\n",
        "model.to(device)\n",
        "print(model)"
      ]
    },
    {
      "cell_type": "code",
      "execution_count": 94,
      "metadata": {
        "colab": {
          "base_uri": "https://localhost:8080/"
        },
        "execution": {},
        "id": "sqy9uOuz4080",
        "outputId": "3e750f07-5fda-4326-bef7-1a3088128539"
      },
      "outputs": [
        {
          "output_type": "stream",
          "name": "stdout",
          "text": [
            "Total Number of parameters:  1018433\n"
          ]
        }
      ],
      "source": [
        "# How many trainable parameters does our model have?\n",
        "model_parameters = filter(lambda p: p.requires_grad, model.parameters())\n",
        "params = sum([np.prod(p.size()) for p in model_parameters])\n",
        "print('Total Number of parameters: ',params)"
      ]
    },
    {
      "cell_type": "markdown",
      "metadata": {
        "execution": {},
        "id": "2xhi0jPb4080"
      },
      "source": [
        "We choose the losses and the optimizer for the training procces."
      ]
    },
    {
      "cell_type": "code",
      "execution_count": 95,
      "metadata": {
        "execution": {},
        "id": "7qy5WTag4080"
      },
      "outputs": [],
      "source": [
        "# loss and optimization functions\n",
        "lr = 0.001\n",
        "\n",
        "# Binary crossentropy is a good loss function for a binary classification problem\n",
        "criterion = nn.BCELoss()\n",
        "\n",
        "# We choose an Adam optimizer\n",
        "optimizer = torch.optim.Adam(model.parameters(), lr=lr)\n",
        "\n",
        "# function to predict accuracy\n",
        "def acc(pred,label):\n",
        "  pred = torch.round(pred.squeeze())\n",
        "  return torch.sum(pred == label.squeeze()).item()"
      ]
    },
    {
      "cell_type": "markdown",
      "metadata": {
        "execution": {},
        "id": "oratGAOg4080"
      },
      "source": [
        "We are ready to train our model."
      ]
    },
    {
      "cell_type": "code",
      "execution_count": 96,
      "metadata": {
        "colab": {
          "base_uri": "https://localhost:8080/"
        },
        "execution": {},
        "id": "c-ad8HwX4080",
        "outputId": "de3fd613-29c7-47a5-e6e6-e80caadb05bb"
      },
      "outputs": [
        {
          "output_type": "stream",
          "name": "stdout",
          "text": [
            "Epoch 1\n",
            "train_loss : 0.43730544636258856 val_loss : 0.3884731814917177\n",
            "train_accuracy : 79.485703125 val_accuracy : 82.4503125\n",
            "Validation loss decreased (inf --> 0.388473).  Saving model ...\n",
            "==================================================\n",
            "Epoch 2\n",
            "train_loss : 0.3758809591725003 val_loss : 0.3710260963672772\n",
            "train_accuracy : 83.173828125 val_accuracy : 83.4796875\n",
            "Validation loss decreased (0.388473 --> 0.371026).  Saving model ...\n",
            "==================================================\n",
            "Epoch 3\n",
            "train_loss : 0.35697066453518345 val_loss : 0.3647595000592992\n",
            "train_accuracy : 84.176484375 val_accuracy : 83.816875\n",
            "Validation loss decreased (0.371026 --> 0.364760).  Saving model ...\n",
            "==================================================\n",
            "Epoch 4\n",
            "train_loss : 0.34435121993068607 val_loss : 0.36194056073203684\n",
            "train_accuracy : 84.87468750000001 val_accuracy : 83.9553125\n",
            "Validation loss decreased (0.364760 --> 0.361941).  Saving model ...\n",
            "==================================================\n",
            "Epoch 5\n",
            "train_loss : 0.33361824998864903 val_loss : 0.3626910804538056\n",
            "train_accuracy : 85.44 val_accuracy : 84.038125\n",
            "==================================================\n"
          ]
        }
      ],
      "source": [
        "# Number of training Epochs\n",
        "epochs = 5\n",
        "\n",
        "# Maximum absolute value accepted for the gradeint\n",
        "clip = 5\n",
        "\n",
        "# Initial Loss value (assumed big)\n",
        "valid_loss_min = np.inf\n",
        "\n",
        "# Lists to follow the evolution of the loss and accuracy\n",
        "epoch_tr_loss,epoch_vl_loss = [],[]\n",
        "epoch_tr_acc,epoch_vl_acc = [],[]\n",
        "\n",
        "# Train for a number of Epochs\n",
        "for epoch in range(epochs):\n",
        "  train_losses = []\n",
        "  train_acc = 0.0\n",
        "  model.train()\n",
        "\n",
        "  for inputs, labels in train_loader:\n",
        "\n",
        "    # Initialize hidden state\n",
        "    h = model.init_hidden(batch_size)\n",
        "    # Creating new variables for the hidden state\n",
        "    h = tuple([each.data.to(device) for each in h])\n",
        "\n",
        "    # Move batch inputs and labels to gpu\n",
        "    inputs, labels = inputs.to(device), labels.to(device)\n",
        "\n",
        "    # Set gradient to zero\n",
        "    model.zero_grad()\n",
        "\n",
        "    # Compute model output\n",
        "    output,h = model(inputs,h)\n",
        "\n",
        "    # Calculate the loss and perform backprop\n",
        "    loss = criterion(output.squeeze(), labels.float())\n",
        "    loss.backward()\n",
        "    train_losses.append(loss.item())\n",
        "\n",
        "    # calculating accuracy\n",
        "    accuracy = acc(output,labels)\n",
        "    train_acc += accuracy\n",
        "\n",
        "    #`clip_grad_norm` helps prevent the exploding gradient problem in RNNs / LSTMs.\n",
        "    nn.utils.clip_grad_norm_(model.parameters(), clip)\n",
        "    optimizer.step()\n",
        "\n",
        "\n",
        "  # Evaluate on the validation set for this epoch\n",
        "  val_losses = []\n",
        "  val_acc = 0.0\n",
        "  model.eval()\n",
        "  for inputs, labels in valid_loader:\n",
        "\n",
        "    # Initialize hidden state\n",
        "    val_h = model.init_hidden(batch_size)\n",
        "    val_h = tuple([each.data.to(device) for each in val_h])\n",
        "\n",
        "    # Move batch inputs and labels to gpu\n",
        "    inputs, labels = inputs.to(device), labels.to(device)\n",
        "\n",
        "    # Compute model output\n",
        "    output, val_h = model(inputs, val_h)\n",
        "\n",
        "    # Compute Loss\n",
        "    val_loss = criterion(output.squeeze(), labels.float())\n",
        "\n",
        "    val_losses.append(val_loss.item())\n",
        "\n",
        "    accuracy = acc(output,labels)\n",
        "    val_acc += accuracy\n",
        "\n",
        "  epoch_train_loss = np.mean(train_losses)\n",
        "  epoch_val_loss = np.mean(val_losses)\n",
        "  epoch_train_acc = train_acc/len(train_loader.dataset)\n",
        "  epoch_val_acc = val_acc/len(valid_loader.dataset)\n",
        "  epoch_tr_loss.append(epoch_train_loss)\n",
        "  epoch_vl_loss.append(epoch_val_loss)\n",
        "  epoch_tr_acc.append(epoch_train_acc)\n",
        "  epoch_vl_acc.append(epoch_val_acc)\n",
        "  print(f'Epoch {epoch+1}')\n",
        "  print(f'train_loss : {epoch_train_loss} val_loss : {epoch_val_loss}')\n",
        "  print(f'train_accuracy : {epoch_train_acc*100} val_accuracy : {epoch_val_acc*100}')\n",
        "  if epoch_val_loss <= valid_loss_min:\n",
        "    print('Validation loss decreased ({:.6f} --> {:.6f}).  Saving model ...'.format(valid_loss_min,epoch_val_loss))\n",
        "    # torch.save(model.state_dict(), '../working/state_dict.pt')\n",
        "    valid_loss_min = epoch_val_loss\n",
        "  print(25*'==')"
      ]
    },
    {
      "cell_type": "code",
      "execution_count": 97,
      "metadata": {
        "colab": {
          "base_uri": "https://localhost:8080/",
          "height": 345
        },
        "execution": {},
        "id": "A9CsNwKJ4081",
        "outputId": "8c943d32-c6f0-4df6-84b4-90f31a27159b"
      },
      "outputs": [
        {
          "output_type": "display_data",
          "data": {
            "text/plain": [
              "<Figure size 2000x600 with 2 Axes>"
            ],
            "image/png": "[encoded data removed]"
          },
          "metadata": {}
        }
      ],
      "source": [
        "fig = plt.figure(figsize = (20, 6))\n",
        "plt.subplot(1, 2, 1)\n",
        "plt.plot(epoch_tr_acc, label='Train Acc')\n",
        "plt.plot(epoch_vl_acc, label='Validation Acc')\n",
        "plt.title(\"Accuracy\")\n",
        "plt.legend()\n",
        "plt.grid()\n",
        "\n",
        "plt.subplot(1, 2, 2)\n",
        "plt.plot(epoch_tr_loss, label='Train loss')\n",
        "plt.plot(epoch_vl_loss, label='Validation loss')\n",
        "plt.title(\"Loss\")\n",
        "plt.legend()\n",
        "plt.grid()\n",
        "\n",
        "plt.show()"
      ]
    },
    {
      "cell_type": "markdown",
      "metadata": {
        "execution": {},
        "id": "elOj3zmv4081"
      },
      "source": [
        "---\n",
        "# What's Next?\n",
        "\n",
        "You can use this project template as a starting point to think about your own project. There are a lot of ways to continue, here we share with you some ideas you migth find useful:\n",
        "\n",
        "*   **Work on the Preproccesing.** We used a very rudimentary way to tokenize tweets. But there are better ways to preprocess the data. Can you think of a suitable way to preprocess the data for this particular task? How does the performance of the model change when the data is processed correctly?\n",
        "*   **Work on the Model.** The RNN model proposed in this notebook is not optimized at all. You can work on finding a better architecture or better hyperparamenters. May be using bidirectonal LSTMs or increasing the number of stacked layers can improve the performance, feel free to try different approaches.\n",
        "*   **Work on the Embedding.** Our model learnt an embedding during the training on this Twitter corpus for a particular task. You can explore the representation of different words in this learned embedding. Also, you can try using different word embeddings. You can train them on this corpus or you can use an embedding trained on another corpus of data. How does the change of the embedding affect the model performance?\n",
        "*   **Try sentiment analysis on another dataset.** There are lots of available dataset to work with, we can help you find one that is interesting to you. Do you belive that a sentiment analysis model trained on some corpus (Twitter dataset) will perform well on another type of data (for example, youtube comments)?\n",
        "\n"
      ]
    },
    {
      "cell_type": "code",
      "execution_count": 97,
      "metadata": {
        "id": "WhbCTrazEcVU"
      },
      "outputs": [],
      "source": []
    }
  ],
  "metadata": {
    "accelerator": "GPU",
    "colab": {
      "provenance": [],
      "toc_visible": true
    },
    "kernel": {
      "display_name": "Python 3",
      "language": "python",
      "name": "python3"
    },
    "kernelspec": {
      "display_name": "Python 3 (ipykernel)",
      "language": "python",
      "name": "python3"
    },
    "language_info": {
      "codemirror_mode": {
        "name": "ipython",
        "version": 3
      },
      "file_extension": ".py",
      "mimetype": "text/x-python",
      "name": "python",
      "nbconvert_exporter": "python",
      "pygments_lexer": "ipython3",
      "version": "3.9.16"
    },
    "widgets": {
      "application/vnd.jupyter.widget-state+json": {
        "804118ce888a4b58b15165450dcaae25": {
          "model_module": "@jupyter-widgets/controls",
          "model_name": "HBoxModel",
          "model_module_version": "1.5.0",
          "state": {
            "_dom_classes": [],
            "_model_module": "@jupyter-widgets/controls",
            "_model_module_version": "1.5.0",
            "_model_name": "HBoxModel",
            "_view_count": null,
            "_view_module": "@jupyter-widgets/controls",
            "_view_module_version": "1.5.0",
            "_view_name": "HBoxView",
            "box_style": "",
            "children": [
              "IPY_MODEL_2f42d886f50e4a998c09e0534b1b31ff",
              "IPY_MODEL_549ea8708efe48d6ada0c12bb7aee67c",
              "IPY_MODEL_0435787bbcff49e6a3d374c46edc86c3"
            ],
            "layout": "IPY_MODEL_16967b11e832474b90dc6a23fa7502c0"
          }
        },
        "2f42d886f50e4a998c09e0534b1b31ff": {
          "model_module": "@jupyter-widgets/controls",
          "model_name": "HTMLModel",
          "model_module_version": "1.5.0",
          "state": {
            "_dom_classes": [],
            "_model_module": "@jupyter-widgets/controls",
            "_model_module_version": "1.5.0",
            "_model_name": "HTMLModel",
            "_view_count": null,
            "_view_module": "@jupyter-widgets/controls",
            "_view_module_version": "1.5.0",
            "_view_name": "HTMLView",
            "description": "",
            "description_tooltip": null,
            "layout": "IPY_MODEL_a70aecd7e4074bf880d0e0f2fb5dd9a0",
            "placeholder": "​",
            "style": "IPY_MODEL_8bdf76ead1b44094893ac1c05292961a",
            "value": "100%"
          }
        },
        "549ea8708efe48d6ada0c12bb7aee67c": {
          "model_module": "@jupyter-widgets/controls",
          "model_name": "FloatProgressModel",
          "model_module_version": "1.5.0",
          "state": {
            "_dom_classes": [],
            "_model_module": "@jupyter-widgets/controls",
            "_model_module_version": "1.5.0",
            "_model_name": "FloatProgressModel",
            "_view_count": null,
            "_view_module": "@jupyter-widgets/controls",
            "_view_module_version": "1.5.0",
            "_view_name": "ProgressView",
            "bar_style": "success",
            "description": "",
            "description_tooltip": null,
            "layout": "IPY_MODEL_dbf9e06311ca4c8da73185a148a5c057",
            "max": 1280000,
            "min": 0,
            "orientation": "horizontal",
            "style": "IPY_MODEL_26146c6780034643abf028631be64e6b",
            "value": 1280000
          }
        },
        "0435787bbcff49e6a3d374c46edc86c3": {
          "model_module": "@jupyter-widgets/controls",
          "model_name": "HTMLModel",
          "model_module_version": "1.5.0",
          "state": {
            "_dom_classes": [],
            "_model_module": "@jupyter-widgets/controls",
            "_model_module_version": "1.5.0",
            "_model_name": "HTMLModel",
            "_view_count": null,
            "_view_module": "@jupyter-widgets/controls",
            "_view_module_version": "1.5.0",
            "_view_name": "HTMLView",
            "description": "",
            "description_tooltip": null,
            "layout": "IPY_MODEL_234808965bb948629e8ed2a321581734",
            "placeholder": "​",
            "style": "IPY_MODEL_557f3967342e4623a1b3d4cb12b5df6e",
            "value": " 1280000/1280000 [00:25&lt;00:00, 82546.10it/s]"
          }
        },
        "16967b11e832474b90dc6a23fa7502c0": {
          "model_module": "@jupyter-widgets/base",
          "model_name": "LayoutModel",
          "model_module_version": "1.2.0",
          "state": {
            "_model_module": "@jupyter-widgets/base",
            "_model_module_version": "1.2.0",
            "_model_name": "LayoutModel",
            "_view_count": null,
            "_view_module": "@jupyter-widgets/base",
            "_view_module_version": "1.2.0",
            "_view_name": "LayoutView",
            "align_content": null,
            "align_items": null,
            "align_self": null,
            "border": null,
            "bottom": null,
            "display": null,
            "flex": null,
            "flex_flow": null,
            "grid_area": null,
            "grid_auto_columns": null,
            "grid_auto_flow": null,
            "grid_auto_rows": null,
            "grid_column": null,
            "grid_gap": null,
            "grid_row": null,
            "grid_template_areas": null,
            "grid_template_columns": null,
            "grid_template_rows": null,
            "height": null,
            "justify_content": null,
            "justify_items": null,
            "left": null,
            "margin": null,
            "max_height": null,
            "max_width": null,
            "min_height": null,
            "min_width": null,
            "object_fit": null,
            "object_position": null,
            "order": null,
            "overflow": null,
            "overflow_x": null,
            "overflow_y": null,
            "padding": null,
            "right": null,
            "top": null,
            "visibility": null,
            "width": null
          }
        },
        "a70aecd7e4074bf880d0e0f2fb5dd9a0": {
          "model_module": "@jupyter-widgets/base",
          "model_name": "LayoutModel",
          "model_module_version": "1.2.0",
          "state": {
            "_model_module": "@jupyter-widgets/base",
            "_model_module_version": "1.2.0",
            "_model_name": "LayoutModel",
            "_view_count": null,
            "_view_module": "@jupyter-widgets/base",
            "_view_module_version": "1.2.0",
            "_view_name": "LayoutView",
            "align_content": null,
            "align_items": null,
            "align_self": null,
            "border": null,
            "bottom": null,
            "display": null,
            "flex": null,
            "flex_flow": null,
            "grid_area": null,
            "grid_auto_columns": null,
            "grid_auto_flow": null,
            "grid_auto_rows": null,
            "grid_column": null,
            "grid_gap": null,
            "grid_row": null,
            "grid_template_areas": null,
            "grid_template_columns": null,
            "grid_template_rows": null,
            "height": null,
            "justify_content": null,
            "justify_items": null,
            "left": null,
            "margin": null,
            "max_height": null,
            "max_width": null,
            "min_height": null,
            "min_width": null,
            "object_fit": null,
            "object_position": null,
            "order": null,
            "overflow": null,
            "overflow_x": null,
            "overflow_y": null,
            "padding": null,
            "right": null,
            "top": null,
            "visibility": null,
            "width": null
          }
        },
        "8bdf76ead1b44094893ac1c05292961a": {
          "model_module": "@jupyter-widgets/controls",
          "model_name": "DescriptionStyleModel",
          "model_module_version": "1.5.0",
          "state": {
            "_model_module": "@jupyter-widgets/controls",
            "_model_module_version": "1.5.0",
            "_model_name": "DescriptionStyleModel",
            "_view_count": null,
            "_view_module": "@jupyter-widgets/base",
            "_view_module_version": "1.2.0",
            "_view_name": "StyleView",
            "description_width": ""
          }
        },
        "dbf9e06311ca4c8da73185a148a5c057": {
          "model_module": "@jupyter-widgets/base",
          "model_name": "LayoutModel",
          "model_module_version": "1.2.0",
          "state": {
            "_model_module": "@jupyter-widgets/base",
            "_model_module_version": "1.2.0",
            "_model_name": "LayoutModel",
            "_view_count": null,
            "_view_module": "@jupyter-widgets/base",
            "_view_module_version": "1.2.0",
            "_view_name": "LayoutView",
            "align_content": null,
            "align_items": null,
            "align_self": null,
            "border": null,
            "bottom": null,
            "display": null,
            "flex": null,
            "flex_flow": null,
            "grid_area": null,
            "grid_auto_columns": null,
            "grid_auto_flow": null,
            "grid_auto_rows": null,
            "grid_column": null,
            "grid_gap": null,
            "grid_row": null,
            "grid_template_areas": null,
            "grid_template_columns": null,
            "grid_template_rows": null,
            "height": null,
            "justify_content": null,
            "justify_items": null,
            "left": null,
            "margin": null,
            "max_height": null,
            "max_width": null,
            "min_height": null,
            "min_width": null,
            "object_fit": null,
            "object_position": null,
            "order": null,
            "overflow": null,
            "overflow_x": null,
            "overflow_y": null,
            "padding": null,
            "right": null,
            "top": null,
            "visibility": null,
            "width": null
          }
        },
        "26146c6780034643abf028631be64e6b": {
          "model_module": "@jupyter-widgets/controls",
          "model_name": "ProgressStyleModel",
          "model_module_version": "1.5.0",
          "state": {
            "_model_module": "@jupyter-widgets/controls",
            "_model_module_version": "1.5.0",
            "_model_name": "ProgressStyleModel",
            "_view_count": null,
            "_view_module": "@jupyter-widgets/base",
            "_view_module_version": "1.2.0",
            "_view_name": "StyleView",
            "bar_color": null,
            "description_width": ""
          }
        },
        "234808965bb948629e8ed2a321581734": {
          "model_module": "@jupyter-widgets/base",
          "model_name": "LayoutModel",
          "model_module_version": "1.2.0",
          "state": {
            "_model_module": "@jupyter-widgets/base",
            "_model_module_version": "1.2.0",
            "_model_name": "LayoutModel",
            "_view_count": null,
            "_view_module": "@jupyter-widgets/base",
            "_view_module_version": "1.2.0",
            "_view_name": "LayoutView",
            "align_content": null,
            "align_items": null,
            "align_self": null,
            "border": null,
            "bottom": null,
            "display": null,
            "flex": null,
            "flex_flow": null,
            "grid_area": null,
            "grid_auto_columns": null,
            "grid_auto_flow": null,
            "grid_auto_rows": null,
            "grid_column": null,
            "grid_gap": null,
            "grid_row": null,
            "grid_template_areas": null,
            "grid_template_columns": null,
            "grid_template_rows": null,
            "height": null,
            "justify_content": null,
            "justify_items": null,
            "left": null,
            "margin": null,
            "max_height": null,
            "max_width": null,
            "min_height": null,
            "min_width": null,
            "object_fit": null,
            "object_position": null,
            "order": null,
            "overflow": null,
            "overflow_x": null,
            "overflow_y": null,
            "padding": null,
            "right": null,
            "top": null,
            "visibility": null,
            "width": null
          }
        },
        "557f3967342e4623a1b3d4cb12b5df6e": {
          "model_module": "@jupyter-widgets/controls",
          "model_name": "DescriptionStyleModel",
          "model_module_version": "1.5.0",
          "state": {
            "_model_module": "@jupyter-widgets/controls",
            "_model_module_version": "1.5.0",
            "_model_name": "DescriptionStyleModel",
            "_view_count": null,
            "_view_module": "@jupyter-widgets/base",
            "_view_module_version": "1.2.0",
            "_view_name": "StyleView",
            "description_width": ""
          }
        },
        "515bc6f00e5f47489e7d14087ad2f059": {
          "model_module": "@jupyter-widgets/controls",
          "model_name": "HBoxModel",
          "model_module_version": "1.5.0",
          "state": {
            "_dom_classes": [],
            "_model_module": "@jupyter-widgets/controls",
            "_model_module_version": "1.5.0",
            "_model_name": "HBoxModel",
            "_view_count": null,
            "_view_module": "@jupyter-widgets/controls",
            "_view_module_version": "1.5.0",
            "_view_name": "HBoxView",
            "box_style": "",
            "children": [
              "IPY_MODEL_79bdfd064cb84b4e977e33b48c80eba0",
              "IPY_MODEL_fc9a58eb932b46a890cdf3d2404a1925",
              "IPY_MODEL_7f65358a691540cca207056d6ad28238"
            ],
            "layout": "IPY_MODEL_75ca785093df4f6986fe735aee1590a6"
          }
        },
        "79bdfd064cb84b4e977e33b48c80eba0": {
          "model_module": "@jupyter-widgets/controls",
          "model_name": "HTMLModel",
          "model_module_version": "1.5.0",
          "state": {
            "_dom_classes": [],
            "_model_module": "@jupyter-widgets/controls",
            "_model_module_version": "1.5.0",
            "_model_name": "HTMLModel",
            "_view_count": null,
            "_view_module": "@jupyter-widgets/controls",
            "_view_module_version": "1.5.0",
            "_view_name": "HTMLView",
            "description": "",
            "description_tooltip": null,
            "layout": "IPY_MODEL_b453121b15144295b915b662ed7bc2e2",
            "placeholder": "​",
            "style": "IPY_MODEL_1ebbab31c8e943a5a6877bd625d7a60f",
            "value": "100%"
          }
        },
        "fc9a58eb932b46a890cdf3d2404a1925": {
          "model_module": "@jupyter-widgets/controls",
          "model_name": "FloatProgressModel",
          "model_module_version": "1.5.0",
          "state": {
            "_dom_classes": [],
            "_model_module": "@jupyter-widgets/controls",
            "_model_module_version": "1.5.0",
            "_model_name": "FloatProgressModel",
            "_view_count": null,
            "_view_module": "@jupyter-widgets/controls",
            "_view_module_version": "1.5.0",
            "_view_name": "ProgressView",
            "bar_style": "success",
            "description": "",
            "description_tooltip": null,
            "layout": "IPY_MODEL_852678a282c446dba1aeff1329064b7b",
            "max": 320000,
            "min": 0,
            "orientation": "horizontal",
            "style": "IPY_MODEL_95606f9b47784d438b76ce7ce68c062f",
            "value": 320000
          }
        },
        "7f65358a691540cca207056d6ad28238": {
          "model_module": "@jupyter-widgets/controls",
          "model_name": "HTMLModel",
          "model_module_version": "1.5.0",
          "state": {
            "_dom_classes": [],
            "_model_module": "@jupyter-widgets/controls",
            "_model_module_version": "1.5.0",
            "_model_name": "HTMLModel",
            "_view_count": null,
            "_view_module": "@jupyter-widgets/controls",
            "_view_module_version": "1.5.0",
            "_view_name": "HTMLView",
            "description": "",
            "description_tooltip": null,
            "layout": "IPY_MODEL_6ae4b453ae454024819180c0b6ec95d1",
            "placeholder": "​",
            "style": "IPY_MODEL_d84476d52a2f47619208376599c1b3dd",
            "value": " 320000/320000 [00:06&lt;00:00, 87739.05it/s]"
          }
        },
        "75ca785093df4f6986fe735aee1590a6": {
          "model_module": "@jupyter-widgets/base",
          "model_name": "LayoutModel",
          "model_module_version": "1.2.0",
          "state": {
            "_model_module": "@jupyter-widgets/base",
            "_model_module_version": "1.2.0",
            "_model_name": "LayoutModel",
            "_view_count": null,
            "_view_module": "@jupyter-widgets/base",
            "_view_module_version": "1.2.0",
            "_view_name": "LayoutView",
            "align_content": null,
            "align_items": null,
            "align_self": null,
            "border": null,
            "bottom": null,
            "display": null,
            "flex": null,
            "flex_flow": null,
            "grid_area": null,
            "grid_auto_columns": null,
            "grid_auto_flow": null,
            "grid_auto_rows": null,
            "grid_column": null,
            "grid_gap": null,
            "grid_row": null,
            "grid_template_areas": null,
            "grid_template_columns": null,
            "grid_template_rows": null,
            "height": null,
            "justify_content": null,
            "justify_items": null,
            "left": null,
            "margin": null,
            "max_height": null,
            "max_width": null,
            "min_height": null,
            "min_width": null,
            "object_fit": null,
            "object_position": null,
            "order": null,
            "overflow": null,
            "overflow_x": null,
            "overflow_y": null,
            "padding": null,
            "right": null,
            "top": null,
            "visibility": null,
            "width": null
          }
        },
        "b453121b15144295b915b662ed7bc2e2": {
          "model_module": "@jupyter-widgets/base",
          "model_name": "LayoutModel",
          "model_module_version": "1.2.0",
          "state": {
            "_model_module": "@jupyter-widgets/base",
            "_model_module_version": "1.2.0",
            "_model_name": "LayoutModel",
            "_view_count": null,
            "_view_module": "@jupyter-widgets/base",
            "_view_module_version": "1.2.0",
            "_view_name": "LayoutView",
            "align_content": null,
            "align_items": null,
            "align_self": null,
            "border": null,
            "bottom": null,
            "display": null,
            "flex": null,
            "flex_flow": null,
            "grid_area": null,
            "grid_auto_columns": null,
            "grid_auto_flow": null,
            "grid_auto_rows": null,
            "grid_column": null,
            "grid_gap": null,
            "grid_row": null,
            "grid_template_areas": null,
            "grid_template_columns": null,
            "grid_template_rows": null,
            "height": null,
            "justify_content": null,
            "justify_items": null,
            "left": null,
            "margin": null,
            "max_height": null,
            "max_width": null,
            "min_height": null,
            "min_width": null,
            "object_fit": null,
            "object_position": null,
            "order": null,
            "overflow": null,
            "overflow_x": null,
            "overflow_y": null,
            "padding": null,
            "right": null,
            "top": null,
            "visibility": null,
            "width": null
          }
        },
        "1ebbab31c8e943a5a6877bd625d7a60f": {
          "model_module": "@jupyter-widgets/controls",
          "model_name": "DescriptionStyleModel",
          "model_module_version": "1.5.0",
          "state": {
            "_model_module": "@jupyter-widgets/controls",
            "_model_module_version": "1.5.0",
            "_model_name": "DescriptionStyleModel",
            "_view_count": null,
            "_view_module": "@jupyter-widgets/base",
            "_view_module_version": "1.2.0",
            "_view_name": "StyleView",
            "description_width": ""
          }
        },
        "852678a282c446dba1aeff1329064b7b": {
          "model_module": "@jupyter-widgets/base",
          "model_name": "LayoutModel",
          "model_module_version": "1.2.0",
          "state": {
            "_model_module": "@jupyter-widgets/base",
            "_model_module_version": "1.2.0",
            "_model_name": "LayoutModel",
            "_view_count": null,
            "_view_module": "@jupyter-widgets/base",
            "_view_module_version": "1.2.0",
            "_view_name": "LayoutView",
            "align_content": null,
            "align_items": null,
            "align_self": null,
            "border": null,
            "bottom": null,
            "display": null,
            "flex": null,
            "flex_flow": null,
            "grid_area": null,
            "grid_auto_columns": null,
            "grid_auto_flow": null,
            "grid_auto_rows": null,
            "grid_column": null,
            "grid_gap": null,
            "grid_row": null,
            "grid_template_areas": null,
            "grid_template_columns": null,
            "grid_template_rows": null,
            "height": null,
            "justify_content": null,
            "justify_items": null,
            "left": null,
            "margin": null,
            "max_height": null,
            "max_width": null,
            "min_height": null,
            "min_width": null,
            "object_fit": null,
            "object_position": null,
            "order": null,
            "overflow": null,
            "overflow_x": null,
            "overflow_y": null,
            "padding": null,
            "right": null,
            "top": null,
            "visibility": null,
            "width": null
          }
        },
        "95606f9b47784d438b76ce7ce68c062f": {
          "model_module": "@jupyter-widgets/controls",
          "model_name": "ProgressStyleModel",
          "model_module_version": "1.5.0",
          "state": {
            "_model_module": "@jupyter-widgets/controls",
            "_model_module_version": "1.5.0",
            "_model_name": "ProgressStyleModel",
            "_view_count": null,
            "_view_module": "@jupyter-widgets/base",
            "_view_module_version": "1.2.0",
            "_view_name": "StyleView",
            "bar_color": null,
            "description_width": ""
          }
        },
        "6ae4b453ae454024819180c0b6ec95d1": {
          "model_module": "@jupyter-widgets/base",
          "model_name": "LayoutModel",
          "model_module_version": "1.2.0",
          "state": {
            "_model_module": "@jupyter-widgets/base",
            "_model_module_version": "1.2.0",
            "_model_name": "LayoutModel",
            "_view_count": null,
            "_view_module": "@jupyter-widgets/base",
            "_view_module_version": "1.2.0",
            "_view_name": "LayoutView",
            "align_content": null,
            "align_items": null,
            "align_self": null,
            "border": null,
            "bottom": null,
            "display": null,
            "flex": null,
            "flex_flow": null,
            "grid_area": null,
            "grid_auto_columns": null,
            "grid_auto_flow": null,
            "grid_auto_rows": null,
            "grid_column": null,
            "grid_gap": null,
            "grid_row": null,
            "grid_template_areas": null,
            "grid_template_columns": null,
            "grid_template_rows": null,
            "height": null,
            "justify_content": null,
            "justify_items": null,
            "left": null,
            "margin": null,
            "max_height": null,
            "max_width": null,
            "min_height": null,
            "min_width": null,
            "object_fit": null,
            "object_position": null,
            "order": null,
            "overflow": null,
            "overflow_x": null,
            "overflow_y": null,
            "padding": null,
            "right": null,
            "top": null,
            "visibility": null,
            "width": null
          }
        },
        "d84476d52a2f47619208376599c1b3dd": {
          "model_module": "@jupyter-widgets/controls",
          "model_name": "DescriptionStyleModel",
          "model_module_version": "1.5.0",
          "state": {
            "_model_module": "@jupyter-widgets/controls",
            "_model_module_version": "1.5.0",
            "_model_name": "DescriptionStyleModel",
            "_view_count": null,
            "_view_module": "@jupyter-widgets/base",
            "_view_module_version": "1.2.0",
            "_view_name": "StyleView",
            "description_width": ""
          }
        }
      }
    }
  },
  "nbformat": 4,
  "nbformat_minor": 0
}